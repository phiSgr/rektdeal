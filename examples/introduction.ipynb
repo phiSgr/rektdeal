{
 "cells": [
  {
   "cell_type": "markdown",
   "id": "037c2da6-a320-4ca4-a6d9-5702377da936",
   "metadata": {},
   "source": [
    "For installing Kotlin Jupyter, see [examples/READMEmd](./README.md).\n",
    "\n",
    "---\n",
    "\n",
    "A large portion of the examples and explanation are adapted from [Redeal's documentation](https://github.com/anntzer/redeal)."
   ]
  },
  {
   "cell_type": "code",
   "execution_count": 1,
   "id": "c3243ae7-c9e0-4b2e-9460-0f35e30c5d52",
   "metadata": {},
   "outputs": [],
   "source": [
    "// First let's ask the kernel to load the ReKtDeal libary.\n",
    "@file:DependsOn(\"com.github.phisgr:rektdeal:0.2.0\")\n",
    "\n",
    "// and import the classes\n",
    "\n",
    "import com.github.phisgr.dds.*\n",
    "import com.github.phisgr.dds.Deal as DdsDeal\n",
    "import com.github.phisgr.rektdeal.*"
   ]
  },
  {
   "cell_type": "code",
   "execution_count": 2,
   "id": "60b505b5-9789-4b05-9757-ccf32e9eff59",
   "metadata": {
    "scrolled": true
   },
   "outputs": [
    {
     "name": "stdout",
     "output_type": "stream",
     "text": [
      "♠️T942♥️A84♦️872♣️J76 ♠️AKQ76♥️QT72♦️J4♣️43 ♠️J83♥️96♦️AK965♣️T52 ♠️5♥️KJ53♦️QT3♣️AKQ98\n",
      "♠️862♥️A73♦️QJ984♣️K2 ♠️J73♥️♦️AKT653♣️Q764 ♠️AT954♥️84♦️2♣️AJT98 ♠️KQ♥️KQJT9652♦️7♣️53\n",
      "♠️K954♥️KQT♦️7♣️KQT92 ♠️AJ6♥️J98642♦️♣️J864 ♠️T832♥️A73♦️KQ2♣️A73 ♠️Q7♥️5♦️AJT986543♣️5\n",
      "♠️AJT985♥️85♦️Q2♣️A54 ♠️2♥️J32♦️J9643♣️KT62 ♠️KQ73♥️KQ94♦️K♣️Q983 ♠️64♥️AT76♦️AT875♣️J7\n",
      "♠️Q985♥️AQT8♦️AT64♣️7 ♠️T43♥️764♦️J32♣️K984 ♠️J2♥️J93♦️K95♣️AJ532 ♠️AK76♥️K52♦️Q87♣️QT6\n",
      "♠️KT♥️J6542♦️AK♣️K962 ♠️A543♥️K987♦️94♣️JT5 ♠️J982♥️QT3♦️Q53♣️A83 ♠️Q76♥️A♦️JT8762♣️Q74\n",
      "♠️K82♥️QT72♦️QJ2♣️J64 ♠️QT64♥️AJ♦️64♣️AQ852 ♠️A753♥️3♦️AKT953♣️K9 ♠️J9♥️K98654♦️87♣️T73\n",
      "♠️KT74♥️65♦️42♣️T9642 ♠️QJ853♥️3♦️J865♣️Q83 ♠️2♥️AQJ87♦️AK97♣️A75 ♠️A96♥️KT942♦️QT3♣️KJ\n",
      "♠️AQ7♥️83♦️T♣️K987653 ♠️KJT9843♥️T2♦️Q4♣️JT ♠️652♥️J9654♦️95♣️AQ4 ♠️♥️AKQ7♦️AKJ87632♣️2\n",
      "♠️AQ62♥️T982♦️K7♣️864 ♠️KT953♥️♦️96542♣️J97 ♠️J874♥️AK753♦️AQJ♣️K ♠️♥️QJ64♦️T83♣️AQT532\n"
     ]
    }
   ],
   "source": [
    "val dealer = Dealer()\n",
    "repeat(10) {\n",
    "    println(dealer())\n",
    "}"
   ]
  },
  {
   "cell_type": "markdown",
   "id": "4e28f0b2-9ba8-4500-ab60-799ceeb06e65",
   "metadata": {},
   "source": [
    "## Formatting Output\n",
    "\n",
    "The default output is compact, but not very friendly. What about more classic diagrams?\n",
    "The `handDiagram` method is there for that!"
   ]
  },
  {
   "cell_type": "code",
   "execution_count": 3,
   "id": "1532fae3-cd0f-41fc-b1c9-c6678400ad81",
   "metadata": {},
   "outputs": [
    {
     "data": {
      "text/plain": [
       "        ♠️A8653\n",
       "        ♥️KQ\n",
       "        ♦️AJT3\n",
       "        ♣️A6\n",
       "♠️972           ♠️QJ4\n",
       "♥️T852          ♥️AJ43\n",
       "♦️Q64           ♦️872\n",
       "♣️KT8           ♣️Q43\n",
       "        ♠️KT\n",
       "        ♥️976\n",
       "        ♦️K95\n",
       "        ♣️J9752\n"
      ]
     },
     "execution_count": 3,
     "metadata": {},
     "output_type": "execute_result"
    }
   ],
   "source": [
    "val deal = dealer()\n",
    "deal.handDiagram()"
   ]
  },
  {
   "cell_type": "markdown",
   "id": "0c0dc555-3539-4ac3-8afb-8001553a77fd",
   "metadata": {},
   "source": [
    "Or you can display only some hands. Here we have a defender's view."
   ]
  },
  {
   "cell_type": "code",
   "execution_count": 4,
   "id": "a61c831e-cdcc-4c0b-a388-172d17fcb26c",
   "metadata": {},
   "outputs": [
    {
     "data": {
      "text/plain": [
       "♠️A8653\n",
       "♥️KQ\n",
       "♦️AJT3\n",
       "♣️A6\n",
       "        ♠️QJ4\n",
       "        ♥️AJ43\n",
       "        ♦️872\n",
       "        ♣️Q43\n"
      ]
     },
     "execution_count": 4,
     "metadata": {},
     "output_type": "execute_result"
    }
   ],
   "source": [
    "deal.handDiagram(NORTH, EAST)"
   ]
  },
  {
   "cell_type": "markdown",
   "id": "0d99d78e-3c40-4aa0-8222-2fd189b867d1",
   "metadata": {},
   "source": [
    "## The `maxTry` count and `accept` function\n",
    "\n",
    "Let's say we want a selection of deals in which North holds a one spade opener. For now, we will use a crude definition for an opening 1♠️ call - we will require North to have 5 or more spades and 12 or more points."
   ]
  },
  {
   "cell_type": "code",
   "execution_count": 5,
   "id": "f4222ff6-e3d6-467a-afcc-439de5c8eeb3",
   "metadata": {},
   "outputs": [
    {
     "name": "stdout",
     "output_type": "stream",
     "text": [
      "♠️KT954♥️KJ♦️AQ8♣️Q92 ♠️J862♥️A743♦️T♣️T865 ♠️A♥️T96♦️J97653♣️AK7 ♠️Q73♥️Q852♦️K42♣️J43\n",
      "null\n",
      "♠️QJ98642♥️AK2♦️6♣️A6 ♠️♥️T863♦️Q983♣️QT975 ♠️T53♥️QJ5♦️KJT54♣️J8 ♠️AK7♥️974♦️A72♣️K432\n",
      "null\n",
      "null\n",
      "null\n",
      "null\n",
      "♠️AKQJ32♥️J2♦️Q9♣️A82 ♠️964♥️A654♦️J7♣️KJT7 ♠️T75♥️K987♦️K432♣️Q5 ♠️8♥️QT3♦️AT865♣️9643\n",
      "♠️AQ852♥️AJ♦️AK♣️T843 ♠️T643♥️KT862♦️♣️AJ97 ♠️K♥️Q953♦️JT85♣️K652 ♠️J97♥️74♦️Q976432♣️Q\n",
      "null\n"
     ]
    }
   ],
   "source": [
    "val dealer = Dealer()\n",
    "repeat(10) {\n",
    "    // you can optionally provide a maxTry count\n",
    "    // if after the number of hands tried, none is accepted,\n",
    "    // dealer(...) returns null\n",
    "    val deal = dealer(maxTry = 10, accept = { deal ->\n",
    "        deal.north.spades.size >= 5 && deal.north.hcp >= 12\n",
    "    })\n",
    "    println(deal)\n",
    "}"
   ]
  },
  {
   "cell_type": "markdown",
   "id": "b0dd4046-f1da-4cd6-bae7-767e5c99c372",
   "metadata": {},
   "source": [
    "It's more idiomatic to use the [trailing lambda syntax](https://kotlinlang.org/docs/lambdas.html#passing-trailing-lambdas)."
   ]
  },
  {
   "cell_type": "code",
   "execution_count": 6,
   "id": "da2c492f-fe03-4c39-9ef1-f2a72bfef163",
   "metadata": {},
   "outputs": [
    {
     "name": "stdout",
     "output_type": "stream",
     "text": [
      "♠️KJT52♥️T♦️AKT874♣️A ♠️AQ6♥️Q4♦️QJ92♣️T763 ♠️43♥️AK7532♦️3♣️K852 ♠️987♥️J986♦️65♣️QJ94\n"
     ]
    }
   ],
   "source": [
    "val deal = dealer(maxTry = 1000) { deal ->\n",
    "    deal.north.spades.size >= 5 && deal.north.hcp >= 12\n",
    "}\n",
    "println(deal)"
   ]
  },
  {
   "cell_type": "markdown",
   "id": "0b59aec1-c8d5-4a60-bce9-1140352bf00d",
   "metadata": {},
   "source": [
    "The function `{ deal -> ... }` is called after each deal is dealt. It can either evaluate to `true`, if the deal satisfies our conditions, or `false` otherwise - in which case the dealer shuffles the deal and tests with the condition again.\n",
    "\n",
    "Here `deal.north` represents North's hand, `deal.north.spades` is North's spade holding, and `deal.north.hcp` is North's number of HCP."
   ]
  },
  {
   "cell_type": "markdown",
   "id": "8b7ede61-5459-42f8-8401-82eb3d8a3000",
   "metadata": {},
   "source": [
    "## Stacking a Hand\n",
    "\n",
    "Would you open 2 or 3♥️ with ♠️-♥️KQJT62♦️T9876♣️84? Well, let's deal a couple of hands to see how this would fare."
   ]
  },
  {
   "cell_type": "code",
   "execution_count": 7,
   "id": "9a038281-51f3-4a3c-a9a5-f08d01fb61ba",
   "metadata": {},
   "outputs": [
    {
     "name": "stdout",
     "output_type": "stream",
     "text": [
      "♠️KJ9842♥️A5♦️J4♣️QJT ♠️Q75♥️84♦️AQ2♣️A6532 ♠️♥️KQJT62♦️T9876♣️84 ♠️AT63♥️973♦️K53♣️K97\n",
      "♠️97642♥️73♦️Q4♣️T962 ♠️53♥️A94♦️AKJ32♣️AQ7 ♠️♥️KQJT62♦️T9876♣️84 ♠️AKQJT8♥️85♦️5♣️KJ53\n",
      "♠️762♥️953♦️43♣️JT975 ♠️T854♥️A4♦️AKJ5♣️Q63 ♠️♥️KQJT62♦️T9876♣️84 ♠️AKQJ93♥️87♦️Q2♣️AK2\n",
      "♠️K76♥️83♦️KQ4♣️KQT32 ♠️AJT9532♥️974♦️A2♣️9 ♠️♥️KQJT62♦️T9876♣️84 ♠️Q84♥️A5♦️J53♣️AJ765\n",
      "♠️KJ98♥️85♦️AKJ♣️T972 ♠️542♥️A9♦️Q432♣️QJ63 ♠️♥️KQJT62♦️T9876♣️84 ♠️AQT763♥️743♦️5♣️AK5\n",
      "♠️KJT8652♥️♦️KQ♣️QJ53 ♠️Q74♥️73♦️AJ532♣️AK7 ♠️♥️KQJT62♦️T9876♣️84 ♠️A93♥️A9854♦️4♣️T962\n",
      "♠️Q9432♥️4♦️J3♣️AQJT7 ♠️T865♥️9853♦️K52♣️53 ♠️♥️KQJT62♦️T9876♣️84 ♠️AKJ7♥️A7♦️AQ4♣️K962\n",
      "♠️QJ8♥️A9873♦️♣️AKQ75 ♠️97432♥️5♦️QJ543♣️T3 ♠️♥️KQJT62♦️T9876♣️84 ♠️AKT65♥️4♦️AK2♣️J962\n",
      "♠️863♥️98753♦️K3♣️AQT ♠️AKQ9754♥️♦️Q2♣️9652 ♠️♥️KQJT62♦️T9876♣️84 ♠️JT2♥️A4♦️AJ54♣️KJ73\n",
      "♠️AQT7♥️97♦️QJ2♣️QJT7 ♠️KJ98♥️A43♦️43♣️K952 ♠️♥️KQJT62♦️T9876♣️84 ♠️65432♥️85♦️AK5♣️A63\n"
     ]
    }
   ],
   "source": [
    "val stackedDealer = Dealer(S = \"- KQJT62 T9876 84\")\n",
    "repeat(10) {\n",
    "    println(stackedDealer())\n",
    "}"
   ]
  },
  {
   "cell_type": "markdown",
   "id": "d76e4fe5-2fb8-4d8e-8a8e-275428a61c91",
   "metadata": {},
   "source": [
    "Your partner opens 1♠️ and you hold ♠️-♥️96532♦️A864♣️T962... do you pass or bid a forcing NT?\n",
    "Let's generate a few hands so that we can see how we would fare."
   ]
  },
  {
   "cell_type": "code",
   "execution_count": 8,
   "id": "3757a51a-1517-4588-95f4-d34d5e6c8e34",
   "metadata": {},
   "outputs": [
    {
     "name": "stdout",
     "output_type": "stream",
     "text": [
      "♠️J8732♥️AKQT♦️Q73♣️5 ♠️AK96♥️7♦️KT952♣️Q74 ♠️♥️96532♦️A864♣️T962 ♠️QT54♥️J84♦️J♣️AKJ83\n",
      "♠️AJ754♥️QJ♦️T2♣️KQJ7 ♠️9832♥️KT874♦️J9♣️85 ♠️♥️96532♦️A864♣️T962 ♠️KQT6♥️A♦️KQ753♣️A43\n",
      "♠️T97532♥️KQ4♦️3♣️AKQ ♠️K6♥️AJ8♦️JT975♣️J53 ♠️♥️96532♦️A864♣️T962 ♠️AQJ84♥️T7♦️KQ2♣️874\n",
      "♠️KQ932♥️♦️972♣️AK543 ♠️AJT765♥️AT7♦️T3♣️Q8 ♠️♥️96532♦️A864♣️T962 ♠️84♥️KQJ84♦️KQJ5♣️J7\n",
      "♠️AQT75♥️Q8♦️7♣️KQJ54 ♠️J964♥️J4♦️KQT5♣️A73 ♠️♥️96532♦️A864♣️T962 ♠️K832♥️AKT7♦️J932♣️8\n",
      "♠️AQJ976♥️♦️KQ532♣️AK ♠️K432♥️Q874♦️T7♣️Q54 ♠️♥️96532♦️A864♣️T962 ♠️T85♥️AKJT♦️J9♣️J873\n",
      "♠️AKJ865♥️Q4♦️Q93♣️74 ♠️T42♥️AT♦️K75♣️AJ853 ♠️♥️96532♦️A864♣️T962 ♠️Q973♥️KJ87♦️JT2♣️KQ\n",
      "♠️KQJT543♥️AQ♦️J♣️K43 ♠️62♥️K♦️KQT9732♣️Q85 ♠️♥️96532♦️A864♣️T962 ♠️A987♥️JT874♦️5♣️AJ7\n",
      "♠️AJ9863♥️KT4♦️J9♣️K3 ♠️Q75♥️J87♦️Q532♣️A84 ♠️♥️96532♦️A864♣️T962 ♠️KT42♥️AQ♦️KT7♣️QJ75\n",
      "♠️KQ9876♥️J♦️JT♣️KQ43 ♠️AJT2♥️QT♦️9532♣️AJ7 ♠️♥️96532♦️A864♣️T962 ♠️543♥️AK874♦️KQ7♣️85\n"
     ]
    }
   ],
   "source": [
    "val stackedDealer = Dealer(S = \"- 96532 A864 T962\")\n",
    "repeat(10) {\n",
    "    val deal = stackedDealer { deal ->\n",
    "        deal.north.spades.size >= 5 && deal.north.hcp >= 12\n",
    "    }\n",
    "    println(deal)\n",
    "}"
   ]
  },
  {
   "cell_type": "markdown",
   "id": "4376c803-88a7-40bf-95f1-6c20b6d0f4de",
   "metadata": {
    "jp-MarkdownHeadingCollapsed": true
   },
   "source": [
    "Note that you do not have to indicate 13 cards for a hand, but you always have to specify the four suits. For example, you can select hands where North holds the heart ace with `Dealer(N = \"- A - -\")`."
   ]
  },
  {
   "cell_type": "markdown",
   "id": "40b6b17e-c99a-41cb-9565-8f078a38fdfb",
   "metadata": {},
   "source": [
    "## Shape\n",
    "\n",
    "Hands also have a `shape` attribute, which returns a list of the length in each suit.\n",
    "This can be queried directly, or using `Shape` objects.\n",
    "\n",
    "You can use `Shape` objects like a set with the `in` operator, or use it like a function."
   ]
  },
  {
   "cell_type": "code",
   "execution_count": 9,
   "id": "2e447315-964f-49ac-96cd-c86997feab08",
   "metadata": {},
   "outputs": [
    {
     "name": "stdout",
     "output_type": "stream",
     "text": [
      "♠️A7♥️875♦️KJ74♣️8754 ♠️QJ♥️K96432♦️93♣️Q93 ♠️T63♥️AQJT♦️QT6♣️KJT ♠️K98542♥️♦️A852♣️A62\n",
      "North's shape is [2, 3, 4, 4], it is balanced.\n",
      "\n",
      "♠️842♥️952♦️QJ♣️AJT65 ♠️T763♥️Q4♦️K643♣️872 ♠️Q♥️AKT73♦️AT85♣️K93 ♠️AKJ95♥️J86♦️972♣️Q4\n",
      "North's shape is [3, 3, 2, 5], it is balanced.\n",
      "\n",
      "♠️KT95♥️AT43♦️A87♣️92 ♠️Q3♥️KQ985♦️KT6♣️J83 ♠️76♥️J7♦️J43♣️AK7654 ♠️AJ842♥️62♦️Q952♣️QT\n",
      "North's shape is [4, 4, 3, 2], it is balanced.\n",
      "\n",
      "♠️AJ♥️J93♦️AQT2♣️J972 ♠️97♥️Q♦️K765♣️AQT653 ♠️KQ8532♥️AK87♦️84♣️K ♠️T64♥️T6542♦️J93♣️84\n",
      "North's shape is [2, 3, 4, 4], it is balanced.\n",
      "\n",
      "♠️AJ762♥️Q7♦️T8♣️AQ83 ♠️T84♥️62♦️K7543♣️KJT ♠️Q5♥️T98543♦️6♣️7654 ♠️K93♥️AKJ♦️AQJ92♣️92\n",
      "North's shape is [5, 2, 2, 4], it is not balanced.\n",
      "\n"
     ]
    }
   ],
   "source": [
    "val dealer = Dealer()\n",
    "repeat(5) {\n",
    "    val deal = dealer { deal ->\n",
    "        Shape.semiBalanced(deal.north)\n",
    "    }\n",
    "    println(deal)\n",
    "\n",
    "    val isBalanced = deal.north.shape in Shape.balanced // or equivalently: `Shape.balanced(deal.north)`\n",
    "    println(\"North's shape is ${deal.north.shape}, it ${if (isBalanced) \"is\" else \"is not\"} balanced.\\n\")\n",
    "}"
   ]
  },
  {
   "cell_type": "markdown",
   "id": "acb43813-76d9-42bc-a95c-f30caa4fe069",
   "metadata": {},
   "source": [
    "`balanced` and `semiBalanced` are defined in [`Shape.kt`](../rektdeal/src/main/kotlin/com/github/phisgr/rektdeal/Shape.kt) as\n",
    "\n",
    "```kotlin\n",
    "val balanced = Shape(\"(4333)\") + Shape(\"(4432)\") + Shape(\"(5332)\")\n",
    "val semiBalanced = balanced + Shape(\"(5422)\") + Shape(\"(6322)\")\n",
    "\n",
    "```\n",
    "\n",
    "where the parentheses have the usual meaning. One can define other shapes, possibly using `x` as a generic placeholder:"
   ]
  },
  {
   "cell_type": "code",
   "execution_count": 10,
   "id": "138294e3-10e9-4599-a046-269f160a5214",
   "metadata": {},
   "outputs": [
    {
     "data": {
      "text/plain": [
       "♠️AJ32♥️KQT82♦️K82♣️4 ♠️T9♥️J654♦️JT64♣️T86 ♠️KQ654♥️7♦️97♣️KQ932 ♠️87♥️A93♦️AQ53♣️AJ75"
      ]
     },
     "execution_count": 10,
     "metadata": {},
     "output_type": "execute_result"
    }
   ],
   "source": [
    "val majorTwoSuited = Shape(\"(54)xx\") - Shape(\"(54)(40)\")\n",
    "val dealer = Dealer()\n",
    "dealer { deal ->\n",
    "    majorTwoSuited(deal.north)\n",
    "}"
   ]
  },
  {
   "cell_type": "markdown",
   "id": "76eda568-9706-4f70-9387-6a1bdf7ce211",
   "metadata": {},
   "source": [
    "## Evaluators\n",
    "\n",
    "Quite a few hand evaluation techniques (HCP, controls, suit quality)\n",
    "look at one suit at a time, and attribute some value to each card.\n",
    "Just like Deal and Redeal, ReKtDeal provides `Evaluator` for creating such evaluation functions:\n",
    "\n",
    "```kotlin\n",
    "val hcp: Evaluator = Evaluator(4, 3, 2, 1)\n",
    "val controls: Evaluator = Evaluator(2, 1)\n",
    "\n",
    "```"
   ]
  },
  {
   "cell_type": "code",
   "execution_count": 11,
   "id": "ddb4e88d-c4ff-4d13-81ba-ed1137b9e8be",
   "metadata": {},
   "outputs": [],
   "source": [
    "val top3 = Evaluator(1, 1, 1)"
   ]
  },
  {
   "cell_type": "markdown",
   "id": "07800b30-3cbb-423b-ab8d-714de1090fa7",
   "metadata": {},
   "source": [
    "Now you can test the quality of a suit with, for example,\n",
    "`top3(deal.north.spades) >= 2` (this may be relevant when generating weak two hands)."
   ]
  },
  {
   "cell_type": "code",
   "execution_count": 12,
   "id": "2875231b-5bf3-49b3-a019-1eeec8ca32cf",
   "metadata": {},
   "outputs": [
    {
     "data": {
      "text/plain": [
       "♠️AQT754♥️AJ974♦️T8♣️ ♠️KJ32♥️6♦️KJ42♣️QJ93 ♠️6♥️QT832♦️95♣️AKT87 ♠️98♥️K5♦️AQ763♣️6542"
      ]
     },
     "execution_count": 12,
     "metadata": {},
     "output_type": "execute_result"
    }
   ],
   "source": [
    "val dealer = Dealer()\n",
    "dealer { deal ->\n",
    "    top3.evaluate(deal.north.spades) >= 2 && deal.north.spades.size >= 6\n",
    "}"
   ]
  },
  {
   "cell_type": "markdown",
   "id": "41a8e648-ada5-458a-b27a-d8bad1467b72",
   "metadata": {},
   "source": [
    "## SmartStacking\n",
    "\n",
    "Rare hand types (say, 22 to 24 balanced) can be annoying to work with, as a lot of hands needs to be generated before finding any of them.\n",
    "\n",
    "For some rare hand types, Deal and Redeal provide an alternative, faster hand dealing technique: smartstacking. Smartstacking works for only one of the four seats, and can only take two sorts of constraints: a Shape object, and bounds on the total value of a vector additive function (i.e. summed over the four suits). For example, both of the following scripts find hands where North is 4-4 in the major, has a short minor and 11-15HCP."
   ]
  },
  {
   "cell_type": "code",
   "execution_count": 13,
   "id": "e444532a-9429-416c-9935-01dd9f49afb0",
   "metadata": {},
   "outputs": [
    {
     "name": "stdout",
     "output_type": "stream",
     "text": [
      "6040\n",
      "Took 409ms. Tries: 1708476\n"
     ]
    }
   ],
   "source": [
    "val roman = Shape(\"44(41)\") + Shape(\"44(50)\")\n",
    "val dealer = Dealer()\n",
    "\n",
    "var count = 0\n",
    "var hasMajorFit = 0\n",
    "var start = System.currentTimeMillis()\n",
    "repeat(10_000) {\n",
    "    val deal = dealer { deal ->\n",
    "        count++\n",
    "        roman(deal.north) && deal.north.hcp in 11..15\n",
    "    }\n",
    "    if (deal.south.spades.size >= 4 || deal.south.hearts.size >= 4) {\n",
    "        // printing in Jupyter incurs quite some overhead\n",
    "        // here we do some counting instead\n",
    "        hasMajorFit++\n",
    "    }\n",
    "}\n",
    "println(hasMajorFit)\n",
    "println(\"Took ${System.currentTimeMillis() - start}ms. Tries: $count\")"
   ]
  },
  {
   "cell_type": "code",
   "execution_count": 14,
   "id": "480a5f39-2daa-4e0d-9fca-9ad4d5f403be",
   "metadata": {},
   "outputs": [
    {
     "name": "stdout",
     "output_type": "stream",
     "text": [
      "6051\n",
      "Took 27ms.\n"
     ]
    }
   ],
   "source": [
    "val roman = Shape(\"44(41)\") + Shape(\"44(50)\")\n",
    "\n",
    "var start = System.currentTimeMillis()\n",
    "val smartDealer = Dealer(N = SmartStack(roman, Evaluator.hcp, 11..15))\n",
    "\n",
    "var hasMajorFit = 0\n",
    "repeat(10_000) {\n",
    "    val deal = smartDealer()\n",
    "    if (deal.south.spades.size >= 4 || deal.south.hearts.size >= 4) {\n",
    "        hasMajorFit++\n",
    "    }\n",
    "}\n",
    "println(hasMajorFit)\n",
    "println(\"Took ${System.currentTimeMillis() - start}ms.\")"
   ]
  },
  {
   "cell_type": "markdown",
   "id": "b54bfb9b-8155-48e9-b331-c9bf03dcc7e5",
   "metadata": {},
   "source": [
    "When smartstacking is used, it starts by computing the relative probabilities that each holding appears in a hand that satisfies the given condition, which takes some time. This then allows it to generate deals very quickly, much faster than by generating random deals and checking whether they pass an accept function. For the given example, as long as one requests a couple of dozen of hands, smartstacking is faster than direct dealing.\n",
    "\n",
    "Smartstacking will take into account other (normally) predealt hands, and an accept function can still be used, e.g. to still throw away some of the hands. See [examples/deal_gambling.ipynb](gambling.ipynb) for a complete example."
   ]
  },
  {
   "cell_type": "markdown",
   "id": "a32daff8-dc90-48c6-812f-49dba26dcf53",
   "metadata": {},
   "source": [
    "## Multi-threading\n",
    "\n",
    "ReKtDeal is performant, but sometimes you just want to use all the cores of your computer.\n",
    "You can launch and manage the threads yourself, but that's quite the hassle.\n",
    "ReKtDeal provides `multiThread`, a higher-order function, a template that manages all that for you.\n",
    "See [examples/gazzilli_weak_response.ipynb](https://nbviewer.org/github/phiSgr/rektdeal/blob/main/examples/gazzilli_weak_response.ipynb) for a complete example."
   ]
  },
  {
   "cell_type": "code",
   "execution_count": 15,
   "id": "03320483-f040-45bf-8eef-f8b02d051624",
   "metadata": {},
   "outputs": [
    {
     "name": "stdout",
     "output_type": "stream",
     "text": [
      "15:48:59 started.\n",
      "15:49:00 1000 deals analyzed.\n",
      "15:49:01 2000 deals analyzed.\n",
      "15:49:02 3000 deals analyzed.\n",
      "15:49:03 4000 deals analyzed.\n",
      "15:49:04 5000 deals analyzed.\n",
      "15:49:05 6000 deals analyzed.\n",
      "15:49:06 7000 deals analyzed.\n",
      "15:49:07 8000 deals analyzed.\n",
      "15:49:08 9000 deals analyzed.\n",
      "15:49:09 10000 deals analyzed.\n",
      "[16, 38, 167, 378, 679, 1138, 1606, 1665, 1588, 1188, 803, 441, 241, 52]\n",
      "If you hold a weak NT hand, the expected value of tricks in no trump is approximately 7.1048\n"
     ]
    }
   ],
   "source": [
    "import java.util.concurrent.atomic.AtomicIntegerArray\n",
    "\n",
    "log(\"started.\")\n",
    "val count = 10_000\n",
    "val trickCounts = AtomicIntegerArray(14)\n",
    "multiThread(\n",
    "    count = count,\n",
    "    accept = { deal ->\n",
    "        deal.south.hcp in 12..14 &&\n",
    "            Shape.balanced(deal.south)\n",
    "    },\n",
    "    action = { dealCount, deal ->\n",
    "        if (dealCount % 1000 == 0) {\n",
    "            log(\"$dealCount deals analyzed.\")\n",
    "        }\n",
    "        trickCounts.getAndIncrement(\n",
    "            deal.ddTricks(strain = N, declarer = SOUTH)\n",
    "        )\n",
    "    }\n",
    ")\n",
    "println(trickCounts)\n",
    "print(\"If you hold a weak NT hand, the expected value of tricks in no trump is approximately \")\n",
    "println((0..13).sumOf { it * trickCounts[it] } / count.toDouble())"
   ]
  },
  {
   "cell_type": "markdown",
   "id": "8cd33a26-7155-4ead-a086-017e4644e1be",
   "metadata": {},
   "source": [
    "## Opening Lead Simulation\n",
    "\n",
    "Like Redeal, ReKtDeal can help you run opening lead simulations.\n",
    "The following example is ported from [one of the Redeal examples](\n",
    "https://github.com/anntzer/redeal/blob/e2e81a477fd31ae548a340b5f0f380594d3d0ad6/examples/opening_lead.py).\n",
    "\n",
    "See [examples/opening_lead.ipynb](https://nbviewer.org/github/phiSgr/rektdeal/blob/main/examples/opening_lead.ipynb) for more information."
   ]
  },
  {
   "cell_type": "code",
   "execution_count": 16,
   "id": "2cf2725e-c0fa-4c89-9565-249a515a6bea",
   "metadata": {},
   "outputs": [
    {
     "name": "stdout",
     "output_type": "stream",
     "text": [
      "15:49:09 started.\n",
      "15:49:11 1000 deals analyzed.\n",
      "15:49:13 2000 deals analyzed.\n",
      "15:49:15 3000 deals analyzed.\n",
      "15:49:16 4000 deals analyzed.\n",
      "15:49:18 5000 deals analyzed.\n",
      "15:49:20 6000 deals analyzed.\n",
      "15:49:22 7000 deals analyzed.\n",
      "15:49:24 8000 deals analyzed.\n",
      "15:49:25 9000 deals analyzed.\n",
      "15:49:27 10000 deals analyzed.\n"
     ]
    }
   ],
   "source": [
    "log(\"started.\")\n",
    "val southShape = Shape(\"33(43)\") + Shape(\"(32)(53)\")\n",
    "val contract = Contract(\"3N\")\n",
    "\n",
    "val payOff = openingLead(\n",
    "    count = 10_000,\n",
    "    hand = PreDealHand(\"QT T32 JT8732 32\"),\n",
    "    leader = WEST,\n",
    "    accept = { deal ->\n",
    "        southShape(deal.south) && deal.south.hcp in 15..17 &&\n",
    "            (deal.north.hearts.size == 4 || deal.north.spades.size == 4) && deal.north.hcp in 9..11\n",
    "    },\n",
    "    contract = contract,\n",
    "    scoring = PayOff.impFromTricks(contract, vulnerable = false)\n",
    ")"
   ]
  },
  {
   "cell_type": "code",
   "execution_count": 17,
   "id": "beb19739-000c-4064-bdb7-d358dbb9ec0e",
   "metadata": {},
   "outputs": [
    {
     "data": {
      "text/plain": [
       "        SQ      ST      HT      H3      DJ      D8      D3      C3      \n",
       "SQ              \u001b[1m\u001b[32m+0.16   \u001b[0m\u001b[1m\u001b[32m+0.45   \u001b[0m\u001b[1m\u001b[32m+0.38   \u001b[0m\u001b[1m\u001b[32m+0.56   \u001b[0m\u001b[1m\u001b[32m+0.77   \u001b[0m\u001b[1m\u001b[32m+0.77   \u001b[0m\u001b[1m\u001b[32m+0.44   \u001b[0m\n",
       "                (0.02)  (0.04)  (0.04)  (0.04)  (0.04)  (0.04)  (0.04)  \n",
       "ST      \u001b[1m\u001b[31m-0.16   \u001b[0m        \u001b[1m\u001b[32m+0.30   \u001b[0m\u001b[1m\u001b[32m+0.23   \u001b[0m\u001b[1m\u001b[32m+0.41   \u001b[0m\u001b[1m\u001b[32m+0.62   \u001b[0m\u001b[1m\u001b[32m+0.62   \u001b[0m\u001b[1m\u001b[32m+0.29   \u001b[0m\n",
       "        (0.02)          (0.04)  (0.04)  (0.03)  (0.03)  (0.03)  (0.04)  \n",
       "HT      \u001b[1m\u001b[31m-0.45   \u001b[0m\u001b[1m\u001b[31m-0.30   \u001b[0m        \u001b[1m\u001b[31m-0.07   \u001b[0m\u001b[1m\u001b[32m+0.11   \u001b[0m\u001b[1m\u001b[32m+0.32   \u001b[0m\u001b[1m\u001b[32m+0.32   \u001b[0m-0.01   \u001b[0m\n",
       "        (0.04)  (0.04)          (0.01)  (0.03)  (0.03)  (0.03)  (0.03)  \n",
       "H3      \u001b[1m\u001b[31m-0.38   \u001b[0m\u001b[1m\u001b[31m-0.23   \u001b[0m\u001b[1m\u001b[32m+0.07   \u001b[0m        \u001b[1m\u001b[32m+0.18   \u001b[0m\u001b[1m\u001b[32m+0.39   \u001b[0m\u001b[1m\u001b[32m+0.39   \u001b[0m\u001b[1m\u001b[32m+0.06   \u001b[0m\n",
       "        (0.04)  (0.04)  (0.01)          (0.03)  (0.03)  (0.03)  (0.03)  \n",
       "DJ      \u001b[1m\u001b[31m-0.56   \u001b[0m\u001b[1m\u001b[31m-0.41   \u001b[0m\u001b[1m\u001b[31m-0.11   \u001b[0m\u001b[1m\u001b[31m-0.18   \u001b[0m        \u001b[1m\u001b[32m+0.22   \u001b[0m\u001b[1m\u001b[32m+0.22   \u001b[0m\u001b[1m\u001b[31m-0.12   \u001b[0m\n",
       "        (0.04)  (0.03)  (0.03)  (0.03)          (0.01)  (0.01)  (0.02)  \n",
       "D8      \u001b[1m\u001b[31m-0.77   \u001b[0m\u001b[1m\u001b[31m-0.62   \u001b[0m\u001b[1m\u001b[31m-0.32   \u001b[0m\u001b[1m\u001b[31m-0.39   \u001b[0m\u001b[1m\u001b[31m-0.22   \u001b[0m        \u001b[1m\u001b[32m+0.00   \u001b[0m\u001b[1m\u001b[31m-0.33   \u001b[0m\n",
       "        (0.04)  (0.03)  (0.03)  (0.03)  (0.01)          (0.00)  (0.03)  \n",
       "D3      \u001b[1m\u001b[31m-0.77   \u001b[0m\u001b[1m\u001b[31m-0.62   \u001b[0m\u001b[1m\u001b[31m-0.32   \u001b[0m\u001b[1m\u001b[31m-0.39   \u001b[0m\u001b[1m\u001b[31m-0.22   \u001b[0m\u001b[1m\u001b[31m-0.00   \u001b[0m        \u001b[1m\u001b[31m-0.33   \u001b[0m\n",
       "        (0.04)  (0.03)  (0.03)  (0.03)  (0.01)  (0.00)          (0.03)  \n",
       "C3      \u001b[1m\u001b[31m-0.44   \u001b[0m\u001b[1m\u001b[31m-0.29   \u001b[0m+0.01   \u001b[0m\u001b[1m\u001b[31m-0.06   \u001b[0m\u001b[1m\u001b[32m+0.12   \u001b[0m\u001b[1m\u001b[32m+0.33   \u001b[0m\u001b[1m\u001b[32m+0.33   \u001b[0m        \n",
       "        (0.04)  (0.04)  (0.03)  (0.03)  (0.02)  (0.03)  (0.03)          \n"
      ]
     },
     "execution_count": 17,
     "metadata": {},
     "output_type": "execute_result"
    }
   ],
   "source": [
    "payOff"
   ]
  }
 ],
 "metadata": {
  "kernelspec": {
   "display_name": "Kotlin",
   "language": "kotlin",
   "name": "kotlin"
  },
  "language_info": {
   "codemirror_mode": "text/x-kotlin",
   "file_extension": ".kt",
   "mimetype": "text/x-kotlin",
   "name": "kotlin",
   "nbconvert_exporter": "",
   "pygments_lexer": "kotlin",
   "version": "1.9.23"
  }
 },
 "nbformat": 4,
 "nbformat_minor": 5
}
