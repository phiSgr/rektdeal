{
 "cells": [
  {
   "cell_type": "markdown",
   "id": "c5739307-b32d-4726-89c6-a44fa4a9a6de",
   "metadata": {},
   "source": [
    "The following code finds deals where South is AK K52 98765 962 and\n",
    "North has a gambling 3NT hand.\n",
    "\n",
    "Adapted from https://github.com/anntzer/redeal/blob/main/examples/deal_gambling.py."
   ]
  },
  {
   "cell_type": "code",
   "execution_count": 1,
   "id": "ec2d2e78-3d2b-40c7-ac7f-1be40db0c47c",
   "metadata": {
    "scrolled": true
   },
   "outputs": [],
   "source": [
    "@file:DependsOn(\"com.github.phisgr:rektdeal:0.0.0\")\n",
    "\n",
    "import com.github.phisgr.dds.*\n",
    "import com.github.phisgr.dds.Deal as DdsDeal\n",
    "import com.github.phisgr.rektdeal.*"
   ]
  },
  {
   "cell_type": "code",
   "execution_count": 2,
   "id": "49f65216-5348-40e1-aee1-0968da6074bb",
   "metadata": {},
   "outputs": [],
   "source": [
    "val gamblingShape = Shape { s, h, d, c ->\n",
    "    s <= 3 && h <= 3 && (d >= 7 && c <= 4 || d <= 4 && c >= 7)\n",
    "}"
   ]
  },
  {
   "cell_type": "markdown",
   "id": "ce00e92a-4ace-45f1-a710-8f1110d85bb5",
   "metadata": {},
   "source": [
    "Here we see a clever use of the `evaluator` in `SmartStack`."
   ]
  },
  {
   "cell_type": "code",
   "execution_count": 3,
   "id": "bc128640-ce08-4e58-9f86-cf4ad138223c",
   "metadata": {},
   "outputs": [],
   "source": [
    "val gambling = Evaluator { cards ->\n",
    "    val longWithTopHonours = cards.size >= 7 &&\n",
    "        cards[0] == Rank.A && cards[1] == Rank.K && cards[2] == Rank.Q\n",
    "    val shortWithNoControls = cards.size <= 4 && (cards.isEmpty() || cards[0] < Rank.K)\n",
    "\n",
    "    if (longWithTopHonours || shortWithNoControls) 1 else 0\n",
    "}"
   ]
  },
  {
   "cell_type": "code",
   "execution_count": 4,
   "id": "0cc73bb5-3701-4642-88da-7c629046eb0a",
   "metadata": {},
   "outputs": [],
   "source": [
    "val dealer = Dealer(\n",
    "    S = \"AK K52 98765 962\",\n",
    "    N = SmartStack(\n",
    "        shape = gamblingShape,\n",
    "        evaluator = gambling,\n",
    "        // i.e. the gambling Evaluator has to evaluate to 1 for all suits\n",
    "        values = listOf(4)\n",
    "    )\n",
    ")"
   ]
  },
  {
   "cell_type": "code",
   "execution_count": 5,
   "id": "2b8a27d0-bc6b-4802-aace-3f9a14d138d5",
   "metadata": {},
   "outputs": [],
   "source": [
    "val shapeCounter = mutableMapOf<List<Int>, Int>()\n",
    "repeat(10_000) {\n",
    "    shapeCounter.compute(dealer().north.shape) { _, v -> (v ?: 0) + 1}\n",
    "}"
   ]
  },
  {
   "cell_type": "code",
   "execution_count": 6,
   "id": "3e19149d-baaf-4ccc-9967-de7afff30fb1",
   "metadata": {},
   "outputs": [
    {
     "name": "stdout",
     "output_type": "stream",
     "text": [
      "3 2 1 7 : 1402\n",
      "2 2 2 7 : 1218\n",
      "2 3 1 7 : 1084\n",
      "3 1 2 7 : 886\n",
      "1 3 2 7 : 551\n",
      "3 3 0 7 : 530\n",
      "2 1 3 7 : 393\n",
      "1 2 3 7 : 323\n",
      "2 2 7 2 : 319\n",
      "2 2 1 8 : 276\n",
      "3 2 7 1 : 265\n",
      "3 1 7 2 : 251\n",
      "2 3 7 1 : 203\n",
      "3 1 1 8 : 200\n",
      "2 1 2 8 : 188\n",
      "2 1 7 3 : 175\n",
      "3 2 0 8 : 155\n",
      "1 3 7 2 : 143\n",
      "1 2 7 3 : 138\n",
      "1 3 1 8 : 132\n",
      "3 0 3 7 : 130\n",
      "1 2 2 8 : 130\n",
      "2 3 0 8 : 92\n",
      "3 3 7 0 : 81\n",
      "0 3 3 7 : 65\n",
      "3 0 2 8 : 59\n",
      "1 1 3 8 : 56\n",
      "1 1 4 7 : 44\n",
      "3 0 7 3 : 42\n",
      "1 1 7 4 : 36\n",
      "0 3 7 3 : 33\n",
      "2 0 3 8 : 31\n",
      "1 2 1 9 : 27\n",
      "0 3 2 8 : 26\n",
      "2 0 4 7 : 25\n",
      "2 1 1 9 : 24\n",
      "1 1 2 9 : 23\n",
      "2 0 7 4 : 23\n",
      "0 2 3 8 : 22\n",
      "0 2 4 7 : 21\n",
      "2 2 0 9 : 18\n",
      "2 1 8 2 : 17\n",
      "2 2 8 1 : 16\n",
      "3 1 8 1 : 15\n",
      "0 2 7 4 : 11\n",
      "3 1 0 9 : 11\n",
      "1 2 8 2 : 9\n",
      "3 0 8 2 : 9\n",
      "2 0 2 9 : 9\n",
      "1 3 0 9 : 7\n",
      "1 1 8 3 : 7\n",
      "3 0 1 9 : 7\n",
      "1 3 8 1 : 7\n",
      "1 0 4 8 : 6\n",
      "3 2 8 0 : 6\n",
      "0 2 2 9 : 5\n",
      "0 3 1 9 : 4\n",
      "0 3 8 2 : 3\n",
      "2 0 8 3 : 2\n",
      "1 0 3 9 : 2\n",
      "2 3 8 0 : 2\n",
      "1 0 8 4 : 2\n",
      "2 0 1 10 : 1\n",
      "0 1 8 4 : 1\n",
      "0 1 4 8 : 1\n"
     ]
    }
   ],
   "source": [
    "shapeCounter\n",
    "    .asSequence()\n",
    "    .sortedByDescending { (_, count) -> count }\n",
    "    .forEach { (shape, count) ->\n",
    "        println(\"${shape.joinToString(\" \")} : $count\")\n",
    "    }"
   ]
  },
  {
   "cell_type": "code",
   "execution_count": null,
   "id": "581eae99-9bf4-4d4c-a64a-ec01cb0d74d3",
   "metadata": {},
   "outputs": [],
   "source": []
  }
 ],
 "metadata": {
  "kernelspec": {
   "display_name": "Kotlin",
   "language": "kotlin",
   "name": "kotlin"
  },
  "language_info": {
   "codemirror_mode": "text/x-kotlin",
   "file_extension": ".kt",
   "mimetype": "text/x-kotlin",
   "name": "kotlin",
   "nbconvert_exporter": "",
   "pygments_lexer": "kotlin",
   "version": "1.9.0"
  }
 },
 "nbformat": 4,
 "nbformat_minor": 5
}
