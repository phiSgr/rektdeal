{
 "cells": [
  {
   "cell_type": "markdown",
   "id": "037c2da6-a320-4ca4-a6d9-5702377da936",
   "metadata": {},
   "source": [
    "For installing Kotlin Jupyter, see [examples/READMEmd](./README.md).\n",
    "\n",
    "---\n",
    "\n",
    "A large portion of the examples and explanation are adapted from [Redeal's documentation](https://github.com/anntzer/redeal)."
   ]
  },
  {
   "cell_type": "code",
   "execution_count": 1,
   "id": "c3243ae7-c9e0-4b2e-9460-0f35e30c5d52",
   "metadata": {},
   "outputs": [],
   "source": [
    "// First let's ask the kernel to load the ReKtDeal libary.\n",
    "\n",
    "@file:DependsOn(\"com.github.phisgr:rektdeal:0.0.0\")\n",
    "\n",
    "// and import the classes\n",
    "\n",
    "import com.github.phisgr.dds.*\n",
    "import com.github.phisgr.dds.Deal as DdsDeal\n",
    "import com.github.phisgr.rektdeal.*"
   ]
  },
  {
   "cell_type": "code",
   "execution_count": 2,
   "id": "60b505b5-9789-4b05-9757-ccf32e9eff59",
   "metadata": {
    "scrolled": true
   },
   "outputs": [
    {
     "name": "stdout",
     "output_type": "stream",
     "text": [
      "♠️Q854♥️K6♦️QJ2♣️QJ95 ♠️K♥️AT432♦️AKT3♣️A73 ♠️JT762♥️Q98♦️875♣️T4 ♠️A93♥️J75♦️964♣️K862\n",
      "♠️T92♥️T853♦️953♣️JT8 ♠️Q843♥️QJ76♦️QJT♣️43 ♠️J75♥️K4♦️AK76♣️A976 ♠️AK6♥️A92♦️842♣️KQ52\n",
      "♠️AJ875♥️QT8643♦️6♣️8 ♠️K93♥️K5♦️KJT9542♣️Q ♠️Q642♥️J72♦️3♣️AK975 ♠️T♥️A9♦️AQ87♣️JT6432\n",
      "♠️A6♥️J8♦️T7542♣️AJ94 ♠️94♥️AQ754♦️86♣️Q765 ♠️KJ532♥️KT96♦️9♣️832 ♠️QT87♥️32♦️AKQJ3♣️KT\n",
      "♠️KQJ82♥️8♦️KQ♣️Q9843 ♠️A6♥️A93♦️AJT954♣️65 ♠️T74♥️KQT64♦️63♣️KJ7 ♠️953♥️J752♦️872♣️AT2\n",
      "♠️Q72♥️Q2♦️AKQ73♣️976 ♠️AK6♥️875♦️95♣️KJT32 ♠️T54♥️AJ6♦️JT842♣️A5 ♠️J983♥️KT943♦️6♣️Q84\n",
      "♠️5♥️AQT6♦️KJ92♣️9432 ♠️Q96♥️J9754♦️Q6♣️KQ8 ♠️AKT832♥️K3♦️AT874♣️ ♠️J74♥️82♦️53♣️AJT765\n",
      "♠️A762♥️42♦️QT♣️KT865 ♠️J83♥️A8♦️A643♣️AJ32 ♠️KQ94♥️KJ63♦️J85♣️97 ♠️T5♥️QT975♦️K972♣️Q4\n",
      "♠️Q985♥️AK84♦️Q742♣️7 ♠️764♥️T653♦️T♣️T9854 ♠️AKJ2♥️Q92♦️863♣️Q32 ♠️T3♥️J7♦️AKJ95♣️AKJ6\n",
      "♠️K3♥️KQJ9♦️QJ98654♣️ ♠️9752♥️T8♦️32♣️K9852 ♠️AJ64♥️A64♦️K♣️AQJ74 ♠️QT8♥️7532♦️AT7♣️T63\n"
     ]
    }
   ],
   "source": [
    "val dealer = Dealer()\n",
    "repeat(10) {\n",
    "    println(dealer())\n",
    "}"
   ]
  },
  {
   "cell_type": "markdown",
   "id": "4e28f0b2-9ba8-4500-ab60-799ceeb06e65",
   "metadata": {},
   "source": [
    "## Formatting Output\n",
    "\n",
    "The default output is compact, but not very friendly. What about more classic diagrams?\n",
    "The `handDiagram` method is there for that!"
   ]
  },
  {
   "cell_type": "code",
   "execution_count": 3,
   "id": "1532fae3-cd0f-41fc-b1c9-c6678400ad81",
   "metadata": {},
   "outputs": [
    {
     "data": {
      "text/plain": [
       "        ♠️Q974\n",
       "        ♥️KQ65\n",
       "        ♦️KJ5\n",
       "        ♣️94\n",
       "♠️AK            ♠️J8652\n",
       "♥️AJT98         ♥️7432\n",
       "♦️Q6            ♦️A9\n",
       "♣️AK75          ♣️QJ\n",
       "        ♠️T3\n",
       "        ♥️\n",
       "        ♦️T87432\n",
       "        ♣️T8632\n"
      ]
     },
     "execution_count": 3,
     "metadata": {},
     "output_type": "execute_result"
    }
   ],
   "source": [
    "val deal = dealer()\n",
    "deal.handDiagram()"
   ]
  },
  {
   "cell_type": "markdown",
   "id": "0c0dc555-3539-4ac3-8afb-8001553a77fd",
   "metadata": {},
   "source": [
    "Or you can display only some hands. Here we have a defender's view."
   ]
  },
  {
   "cell_type": "code",
   "execution_count": 4,
   "id": "a61c831e-cdcc-4c0b-a388-172d17fcb26c",
   "metadata": {},
   "outputs": [
    {
     "data": {
      "text/plain": [
       "♠️Q974\n",
       "♥️KQ65\n",
       "♦️KJ5\n",
       "♣️94\n",
       "        ♠️J8652\n",
       "        ♥️7432\n",
       "        ♦️A9\n",
       "        ♣️QJ\n"
      ]
     },
     "execution_count": 4,
     "metadata": {},
     "output_type": "execute_result"
    }
   ],
   "source": [
    "deal.handDiagram(N = true, E = true)"
   ]
  },
  {
   "cell_type": "markdown",
   "id": "0d99d78e-3c40-4aa0-8222-2fd189b867d1",
   "metadata": {},
   "source": [
    "## The `maxTry` count and `accept` function\n",
    "\n",
    "Let's say we want a selection of deals in which North holds a one spade opener. For now, we will use a crude definition for an opening 1♠️ call - we will require North to have 5 or more spades and 12 or more points."
   ]
  },
  {
   "cell_type": "code",
   "execution_count": 5,
   "id": "f4222ff6-e3d6-467a-afcc-439de5c8eeb3",
   "metadata": {},
   "outputs": [
    {
     "name": "stdout",
     "output_type": "stream",
     "text": [
      "null\n",
      "♠️K9653♥️AKT2♦️7♣️K82 ♠️QJ7♥️J4♦️K6432♣️J94 ♠️T8♥️Q9763♦️AQJ8♣️73 ♠️A42♥️85♦️T95♣️AQT65\n",
      "♠️KJT76♥️AQ82♦️A32♣️K ♠️Q9♥️63♦️95♣️T876432 ♠️53♥️KJT74♦️KQJ7♣️QJ ♠️A842♥️95♦️T864♣️A95\n",
      "null\n",
      "null\n",
      "null\n",
      "♠️KQ862♥️83♦️KQ74♣️KQ ♠️JT73♥️AT2♦️963♣️975 ♠️A95♥️KJ975♦️AJ2♣️43 ♠️4♥️Q64♦️T85♣️AJT862\n",
      "♠️KQT973♥️A4♦️K52♣️K5 ♠️4♥️K63♦️JT93♣️97642 ♠️A5♥️QJ852♦️A76♣️AJT ♠️J862♥️T97♦️Q84♣️Q83\n",
      "♠️QJ9854♥️AQ♦️J6♣️Q94 ♠️A3♥️K9752♦️Q987♣️J6 ♠️T62♥️J4♦️3♣️KT87532 ♠️K7♥️T863♦️AKT542♣️A\n",
      "♠️AK642♥️K986♦️J4♣️AK ♠️853♥️Q53♦️Q2♣️QT943 ♠️JT7♥️AJ72♦️T9763♣️5 ♠️Q9♥️T4♦️AK85♣️J8762\n"
     ]
    }
   ],
   "source": [
    "val dealer = Dealer()\n",
    "repeat(10) {\n",
    "    // you can optionally provide a maxTry count\n",
    "    // if after the number of hands tried, none is accepted,\n",
    "    // dealer(...) returns null\n",
    "    val deal = dealer(maxTry = 10, accept = { deal ->\n",
    "        deal.north.spades.size >= 5 && deal.north.hcp >= 12\n",
    "    })\n",
    "    println(deal)\n",
    "}"
   ]
  },
  {
   "cell_type": "markdown",
   "id": "b0dd4046-f1da-4cd6-bae7-767e5c99c372",
   "metadata": {},
   "source": [
    "It's more idiomatic to use the [trailing lambda syntax](https://kotlinlang.org/docs/lambdas.html#passing-trailing-lambdas)."
   ]
  },
  {
   "cell_type": "code",
   "execution_count": 6,
   "id": "da2c492f-fe03-4c39-9ef1-f2a72bfef163",
   "metadata": {},
   "outputs": [
    {
     "name": "stdout",
     "output_type": "stream",
     "text": [
      "♠️KQT52♥️K832♦️T♣️A93 ♠️97♥️QT7♦️A9543♣️Q82 ♠️AJ863♥️A4♦️QJ86♣️54 ♠️4♥️J965♦️K72♣️KJT76\n"
     ]
    }
   ],
   "source": [
    "val deal = dealer(maxTry = 1000) { deal ->\n",
    "    deal.north.spades.size >= 5 && deal.north.hcp >= 12\n",
    "}\n",
    "println(deal)"
   ]
  },
  {
   "cell_type": "markdown",
   "id": "0b59aec1-c8d5-4a60-bce9-1140352bf00d",
   "metadata": {},
   "source": [
    "The function `{ deal -> ... }` is called after each deal is dealt. It can either evaluate to `true`, if the deal satisfies our conditions, or `false` otherwise - in which case the dealer shuffles the deal and tests with the condition again.\n",
    "\n",
    "Here `deal.north` represents North's hand, `deal.north.spades` is North's spade holding, and `deal.north.hcp` is North's number of HCP."
   ]
  },
  {
   "cell_type": "markdown",
   "id": "8b7ede61-5459-42f8-8401-82eb3d8a3000",
   "metadata": {},
   "source": [
    "## Stacking a Hand\n",
    "\n",
    "Would you open 2 or 3♥️ with ♠️-♥️KQJT62♦️T9876♣️84? Well, let's deal a couple of hands to see how this would fare."
   ]
  },
  {
   "cell_type": "code",
   "execution_count": 7,
   "id": "9a038281-51f3-4a3c-a9a5-f08d01fb61ba",
   "metadata": {},
   "outputs": [
    {
     "name": "stdout",
     "output_type": "stream",
     "text": [
      "♠️T972♥️954♦️KQ♣️QJ76 ♠️KQ865♥️♦️AJ5♣️AKT93 ♠️♥️KQJT62♦️T9876♣️84 ♠️AJ43♥️A873♦️432♣️52\n",
      "♠️Q987♥️8♦️AK543♣️973 ♠️T6543♥️754♦️Q♣️AK52 ♠️♥️KQJT62♦️T9876♣️84 ♠️AKJ2♥️A93♦️J2♣️QJT6\n",
      "♠️AQ985♥️A83♦️A5♣️AT6 ♠️T7642♥️95♦️KJ♣️KQ92 ♠️♥️KQJT62♦️T9876♣️84 ♠️KJ3♥️74♦️Q432♣️J753\n",
      "♠️AKJ75♥️A97♦️Q43♣️J7 ♠️6432♥️843♦️AK2♣️KQ2 ♠️♥️KQJT62♦️T9876♣️84 ♠️QT98♥️5♦️J5♣️AT9653\n",
      "♠️T652♥️3♦️AKJ3♣️AQ62 ♠️AQJ7♥️A98754♦️Q42♣️ ♠️♥️KQJT62♦️T9876♣️84 ♠️K9843♥️♦️5♣️KJT9753\n",
      "♠️AKT43♥️A5♦️43♣️J632 ♠️J965♥️973♦️QJ52♣️A5 ♠️♥️KQJT62♦️T9876♣️84 ♠️Q872♥️84♦️AK♣️KQT97\n",
      "♠️K872♥️A83♦️AJ♣️J973 ♠️AQJT4♥️974♦️4♣️AKQ6 ♠️♥️KQJT62♦️T9876♣️84 ♠️9653♥️5♦️KQ532♣️T52\n",
      "♠️754♥️5♦️QJ54♣️AK953 ♠️AQT982♥️93♦️A2♣️QT6 ♠️♥️KQJT62♦️T9876♣️84 ♠️KJ63♥️A874♦️K3♣️J72\n",
      "♠️7♥️A873♦️Q54♣️AKQJ9 ♠️AKQT9863♥️94♦️A2♣️T ♠️♥️KQJT62♦️T9876♣️84 ♠️J542♥️5♦️KJ3♣️76532\n",
      "♠️Q853♥️87♦️43♣️J9652 ♠️AKJT72♥️A5♦️J2♣️AQ3 ♠️♥️KQJT62♦️T9876♣️84 ♠️964♥️943♦️AKQ5♣️KT7\n"
     ]
    }
   ],
   "source": [
    "val stackedDealer = Dealer(S = \"- KQJT62 T9876 84\")\n",
    "repeat(10) {\n",
    "    println(stackedDealer())\n",
    "}"
   ]
  },
  {
   "cell_type": "markdown",
   "id": "d76e4fe5-2fb8-4d8e-8a8e-275428a61c91",
   "metadata": {},
   "source": [
    "Your partner opens 1♠️ and you hold ♠️-♥️96532♦️A864♣️T962... do you pass or bid a forcing NT?\n",
    "Let's generate a few hands so that we can see how we would fare."
   ]
  },
  {
   "cell_type": "code",
   "execution_count": 8,
   "id": "3757a51a-1517-4588-95f4-d34d5e6c8e34",
   "metadata": {},
   "outputs": [
    {
     "name": "stdout",
     "output_type": "stream",
     "text": [
      "♠️AKQJT72♥️JT♦️KT92♣️ ♠️863♥️K74♦️QJ7♣️KQ87 ♠️♥️96532♦️A864♣️T962 ♠️954♥️AQ8♦️53♣️AJ543\n",
      "♠️KQJ943♥️K7♦️K73♣️J5 ♠️AT8652♥️4♦️Q52♣️KQ7 ♠️♥️96532♦️A864♣️T962 ♠️7♥️AQJT8♦️JT9♣️A843\n",
      "♠️K9876♥️AK8♦️KT7♣️A8 ♠️T542♥️Q7♦️932♣️Q543 ♠️♥️96532♦️A864♣️T962 ♠️AQJ3♥️JT4♦️QJ5♣️KJ7\n",
      "♠️AKT9532♥️♦️KQJ3♣️Q5 ♠️Q8♥️KQT87♦️75♣️AJ84 ♠️♥️96532♦️A864♣️T962 ♠️J764♥️AJ4♦️T92♣️K73\n",
      "♠️J9873♥️K♦️QJ95♣️AJ5 ♠️AK4♥️A87♦️T72♣️Q743 ♠️♥️96532♦️A864♣️T962 ♠️QT652♥️QJT4♦️K3♣️K8\n",
      "♠️KJT85♥️KQJT7♦️J5♣️A ♠️A7642♥️84♦️K♣️K8754 ♠️♥️96532♦️A864♣️T962 ♠️Q93♥️A♦️QT9732♣️QJ3\n",
      "♠️KQJ7643♥️Q♦️Q♣️KQ43 ♠️A982♥️AJ4♦️K753♣️85 ♠️♥️96532♦️A864♣️T962 ♠️T5♥️KT87♦️JT92♣️AJ7\n",
      "♠️AKQ32♥️AKJT8♦️5♣️Q4 ♠️J8♥️7♦️JT732♣️AJ853 ♠️♥️96532♦️A864♣️T962 ♠️T97654♥️Q4♦️KQ9♣️K7\n",
      "♠️AQJ872♥️K4♦️T2♣️Q73 ♠️T6♥️JT7♦️KQJ7♣️AK84 ♠️♥️96532♦️A864♣️T962 ♠️K9543♥️AQ8♦️953♣️J5\n",
      "♠️QJ875♥️KQ8♦️KJ2♣️J3 ♠️KT632♥️J7♦️Q73♣️AK8 ♠️♥️96532♦️A864♣️T962 ♠️A94♥️AT4♦️T95♣️Q754\n"
     ]
    }
   ],
   "source": [
    "val stackedDealer = Dealer(S = \"- 96532 A864 T962\")\n",
    "repeat(10) {\n",
    "    val deal = stackedDealer { deal ->\n",
    "        deal.north.spades.size >= 5 && deal.north.hcp >= 12\n",
    "    }\n",
    "    println(deal)\n",
    "}"
   ]
  },
  {
   "cell_type": "markdown",
   "id": "4376c803-88a7-40bf-95f1-6c20b6d0f4de",
   "metadata": {
    "jp-MarkdownHeadingCollapsed": true
   },
   "source": [
    "Unlike Redeal, which allows specifying something like \"south must hold the ♥️A\" with `\"- A - -\"`,\n",
    "the pre-dealt hand in ReKtDeal has to hold all 13 cards.\n",
    "This limitation may be lifted in the future."
   ]
  },
  {
   "cell_type": "markdown",
   "id": "40b6b17e-c99a-41cb-9565-8f078a38fdfb",
   "metadata": {},
   "source": [
    "## Shape\n",
    "\n",
    "Hands also have a `shape` attribute, which returns a list of the length in each suit.\n",
    "This can be queried directly, or using `Shape` objects.\n",
    "\n",
    "You can use `Shape` objects like a set with the `in` operator, or use it like a function."
   ]
  },
  {
   "cell_type": "code",
   "execution_count": 9,
   "id": "2e447315-964f-49ac-96cd-c86997feab08",
   "metadata": {},
   "outputs": [
    {
     "name": "stdout",
     "output_type": "stream",
     "text": [
      "♠️Q5♥️AJ974♦️8732♣️K9 ♠️T974♥️KQ5♦️KT64♣️65 ♠️863♥️T862♦️J9♣️Q432 ♠️AKJ2♥️3♦️AQ5♣️AJT87\n",
      "North's shape is [2, 5, 4, 2], it is not balanced.\n",
      "\n",
      "♠️J874♥️96♦️QT76♣️K42 ♠️A95♥️AQ♦️AJ94♣️T765 ♠️KQ6♥️J3♦️8532♣️J983 ♠️T32♥️KT87542♦️K♣️AQ\n",
      "North's shape is [4, 2, 4, 3], it is balanced.\n",
      "\n",
      "♠️KJ82♥️AQ3♦️JT♣️KQ53 ♠️Q64♥️KJ62♦️A3♣️A974 ♠️A9♥️98754♦️Q864♣️T2 ♠️T753♥️T♦️K9752♣️J86\n",
      "North's shape is [4, 3, 2, 4], it is balanced.\n",
      "\n",
      "♠️62♥️AJ3♦️AQJ543♣️72 ♠️AKJ9854♥️9852♦️6♣️9 ♠️3♥️KQ764♦️982♣️QT84 ♠️QT7♥️T♦️KT7♣️AKJ653\n",
      "North's shape is [2, 3, 6, 2], it is not balanced.\n",
      "\n",
      "♠️J4♥️QJ6♦️AKT♣️T8765 ♠️AKT863♥️K8754♦️2♣️9 ♠️952♥️T9♦️875♣️AKQ42 ♠️Q7♥️A32♦️QJ9643♣️J3\n",
      "North's shape is [2, 3, 3, 5], it is balanced.\n",
      "\n"
     ]
    }
   ],
   "source": [
    "val dealer = Dealer()\n",
    "repeat(5) {\n",
    "    val deal = dealer { deal ->\n",
    "        Shape.semiBalanced(deal.north)\n",
    "    }\n",
    "    println(deal)\n",
    "\n",
    "    val isBalanced = deal.north.shape in Shape.balanced // or equivalently: `Shape.balanced(deal.north)`\n",
    "    println(\"North's shape is ${deal.north.shape}, it ${if (isBalanced) \"is\" else \"is not\"} balanced.\\n\")\n",
    "}"
   ]
  },
  {
   "cell_type": "markdown",
   "id": "acb43813-76d9-42bc-a95c-f30caa4fe069",
   "metadata": {},
   "source": [
    "`balanced` and `semiBalanced` are defined in [`Shape.kt`](../rektdeal/src/main/kotlin/com/github/phisgr/rektdeal/Shape.kt) as\n",
    "\n",
    "```kotlin\n",
    "val balanced = Shape(\"(4333)\") + Shape(\"(4432)\") + Shape(\"(5332)\")\n",
    "val semiBalanced = balanced + Shape(\"(5422)\") + Shape(\"(6322)\")\n",
    "\n",
    "```\n",
    "\n",
    "where the parentheses have the usual meaning. One can define other shapes, possibly using `x` as a generic placeholder:"
   ]
  },
  {
   "cell_type": "code",
   "execution_count": 10,
   "id": "138294e3-10e9-4599-a046-269f160a5214",
   "metadata": {},
   "outputs": [
    {
     "data": {
      "text/plain": [
       "♠️Q9765♥️QJ64♦️K86♣️K ♠️A3♥️T953♦️AQ2♣️AJ83 ♠️KJ4♥️A7♦️974♣️T9752 ♠️T82♥️K82♦️JT53♣️Q64"
      ]
     },
     "execution_count": 10,
     "metadata": {},
     "output_type": "execute_result"
    }
   ],
   "source": [
    "val majorTwoSuited = Shape(\"(54)xx\") - Shape(\"(54)(40)\")\n",
    "val dealer = Dealer()\n",
    "dealer { deal ->\n",
    "    majorTwoSuited(deal.north)\n",
    "}"
   ]
  },
  {
   "cell_type": "markdown",
   "id": "76eda568-9706-4f70-9387-6a1bdf7ce211",
   "metadata": {},
   "source": [
    "## Evaluators\n",
    "\n",
    "Quite a few hand evaluation techniques (HCP, controls, suit quality)\n",
    "look at one suit at a time, and attribute some value to each card.\n",
    "Just like Deal and Redeal, ReKtDeal provides `Evaluator` for creating such evaluation functions:\n",
    "\n",
    "```kotlin\n",
    "val hcp: Evaluator = Evaluator(4, 3, 2, 1)\n",
    "val controls: Evaluator = Evaluator(2, 1)\n",
    "\n",
    "```"
   ]
  },
  {
   "cell_type": "code",
   "execution_count": 11,
   "id": "ddb4e88d-c4ff-4d13-81ba-ed1137b9e8be",
   "metadata": {},
   "outputs": [],
   "source": [
    "val top3 = Evaluator(1, 1, 1)"
   ]
  },
  {
   "cell_type": "markdown",
   "id": "07800b30-3cbb-423b-ab8d-714de1090fa7",
   "metadata": {},
   "source": [
    "Now you can test the quality of a suit with, for example,\n",
    "`top3(deal.north.spades) >= 2` (this may be relevant when generating weak two hands)."
   ]
  },
  {
   "cell_type": "code",
   "execution_count": 12,
   "id": "2875231b-5bf3-49b3-a019-1eeec8ca32cf",
   "metadata": {},
   "outputs": [
    {
     "data": {
      "text/plain": [
       "♠️KQT873♥️J8♦️62♣️K95 ♠️AJ2♥️QT72♦️973♣️T76 ♠️64♥️96543♦️AKJ8♣️83 ♠️95♥️AK♦️QT54♣️AQJ42"
      ]
     },
     "execution_count": 12,
     "metadata": {},
     "output_type": "execute_result"
    }
   ],
   "source": [
    "val dealer = Dealer()\n",
    "dealer { deal ->\n",
    "    top3.evaluate(deal.north.spades) >= 2 && deal.north.spades.size >= 6\n",
    "}"
   ]
  },
  {
   "cell_type": "markdown",
   "id": "41a8e648-ada5-458a-b27a-d8bad1467b72",
   "metadata": {},
   "source": [
    "## SmartStacking\n",
    "\n",
    "Rare hand types (say, 22 to 24 balanced) can be annoying to work with, as a lot of hands needs to be generated before finding any of them.\n",
    "\n",
    "For some rare hand types, Deal and Redeal provide an alternative, faster hand dealing technique: smartstacking. Smartstacking works for only one of the four seats, and can only take two sorts of constraints: a Shape object, and bounds on the total value of a vector additive function (i.e. summed over the four suits). For example, both of the following scripts find hands where North is 4-4 in the major, has a short minor and 11-15HCP."
   ]
  },
  {
   "cell_type": "code",
   "execution_count": 13,
   "id": "e444532a-9429-416c-9935-01dd9f49afb0",
   "metadata": {},
   "outputs": [
    {
     "name": "stdout",
     "output_type": "stream",
     "text": [
      "6034\n",
      "Took 416ms. Tries: 1703652\n"
     ]
    }
   ],
   "source": [
    "val roman = Shape(\"44(41)\") + Shape(\"44(50)\")\n",
    "val dealer = Dealer()\n",
    "\n",
    "var count = 0\n",
    "var hasMajorFit = 0\n",
    "var start = System.currentTimeMillis()\n",
    "repeat(10_000) {\n",
    "    val deal = dealer { deal ->\n",
    "        count++\n",
    "        roman(deal.north) && deal.north.hcp in 11..15\n",
    "    }\n",
    "    if (deal.south.spades.size >= 4 || deal.south.hearts.size >= 4) {\n",
    "        // printing in Jupyter incurs quite some overhead\n",
    "        // here we do some counting instead\n",
    "        hasMajorFit++\n",
    "    }\n",
    "}\n",
    "println(hasMajorFit)\n",
    "println(\"Took ${System.currentTimeMillis() - start}ms. Tries: $count\")"
   ]
  },
  {
   "cell_type": "code",
   "execution_count": 14,
   "id": "480a5f39-2daa-4e0d-9fca-9ad4d5f403be",
   "metadata": {},
   "outputs": [
    {
     "name": "stdout",
     "output_type": "stream",
     "text": [
      "6045\n",
      "Took 35ms.\n"
     ]
    }
   ],
   "source": [
    "val roman = Shape(\"44(41)\") + Shape(\"44(50)\")\n",
    "\n",
    "var start = System.currentTimeMillis()\n",
    "val smartDealer = Dealer(N = SmartStack(roman, Evaluator.hcp, 11..15))\n",
    "\n",
    "var hasMajorFit = 0\n",
    "repeat(10_000) {\n",
    "    val deal = smartDealer()\n",
    "    if (deal.south.spades.size >= 4 || deal.south.hearts.size >= 4) {\n",
    "        hasMajorFit++\n",
    "    }\n",
    "}\n",
    "println(hasMajorFit)\n",
    "println(\"Took ${System.currentTimeMillis() - start}ms.\")"
   ]
  },
  {
   "cell_type": "markdown",
   "id": "b54bfb9b-8155-48e9-b331-c9bf03dcc7e5",
   "metadata": {},
   "source": [
    "When smartstacking is used, it starts by computing the relative probabilities that each holding appears in a hand that satisfies the given condition, which takes some time. This then allows it to generate deals very quickly, much faster than by generating random deals and checking whether they pass an accept function. For the given example, as long as one requests a couple of dozen of hands, smartstacking is faster than direct dealing.\n",
    "\n",
    "Smartstacking will take into account other (normally) predealt hands, and an accept function can still be used, e.g. to still throw away some of the hands. See [examples/deal_gambling.ipynb](gambling.ipynb) for a complete example."
   ]
  },
  {
   "cell_type": "markdown",
   "id": "a32daff8-dc90-48c6-812f-49dba26dcf53",
   "metadata": {},
   "source": [
    "## Multi-threading\n",
    "\n",
    "ReKtDeal is performant, but sometimes you just want to use all the cores of your computer.\n",
    "You can launch and manage the threads yourself, but that's quite the hassle.\n",
    "ReKtDeal provides `multiThread`, a higher-order function, a template that manages all that for you.\n",
    "See [examples/gazzilli_weak_response.ipynb](gazzilli_weak_response.ipynb) for a complete example."
   ]
  },
  {
   "cell_type": "code",
   "execution_count": 15,
   "id": "03320483-f040-45bf-8eef-f8b02d051624",
   "metadata": {},
   "outputs": [
    {
     "name": "stdout",
     "output_type": "stream",
     "text": [
      "17:40:01 started.\n",
      "17:40:02 1000 deals analyzed.\n",
      "17:40:03 2000 deals analyzed.\n",
      "17:40:04 3000 deals analyzed.\n",
      "17:40:05 4000 deals analyzed.\n",
      "17:40:06 5000 deals analyzed.\n",
      "17:40:07 6000 deals analyzed.\n",
      "17:40:08 7000 deals analyzed.\n",
      "17:40:09 8000 deals analyzed.\n",
      "17:40:10 9000 deals analyzed.\n",
      "17:40:11 10000 deals analyzed.\n",
      "[14, 56, 168, 396, 744, 1143, 1542, 1674, 1606, 1149, 812, 416, 224, 56]\n",
      "If you hold a weak NT hand, the expected value of tricks in no trump is approximately 7.0542\n"
     ]
    }
   ],
   "source": [
    "import java.util.concurrent.atomic.AtomicIntegerArray\n",
    "\n",
    "log(\"started.\")\n",
    "val count = 10_000\n",
    "val trickCounts = AtomicIntegerArray(14)\n",
    "multiThread(\n",
    "    count = count,\n",
    "    accept = { deal ->\n",
    "        deal.south.hcp in 12..14 &&\n",
    "            Shape.balanced(deal.south)\n",
    "    },\n",
    "    action = { dealCount, deal ->\n",
    "        if (dealCount % 1000 == 0) {\n",
    "            log(\"$dealCount deals analyzed.\")\n",
    "        }\n",
    "        trickCounts.getAndIncrement(\n",
    "            deal.ddTricks(strain = N, declarer = SOUTH)\n",
    "        )\n",
    "    }\n",
    ")\n",
    "println(trickCounts)\n",
    "print(\"If you hold a weak NT hand, the expected value of tricks in no trump is approximately \")\n",
    "println((0..13).sumOf { it * trickCounts[it] } / count.toDouble())"
   ]
  },
  {
   "cell_type": "markdown",
   "id": "8cd33a26-7155-4ead-a086-017e4644e1be",
   "metadata": {},
   "source": [
    "## Opening Lead Simulation\n",
    "\n",
    "Like Redeal, ReKtDeal can help you run opening lead simulations.\n",
    "The following example is ported from [one of the Redeal examples](\n",
    "https://github.com/anntzer/redeal/blob/e2e81a477fd31ae548a340b5f0f380594d3d0ad6/examples/opening_lead.py).\n",
    "\n",
    "See [examples/opening_lead.ipynb](opening_lead.ipynb) for more information."
   ]
  },
  {
   "cell_type": "code",
   "execution_count": 16,
   "id": "2cf2725e-c0fa-4c89-9565-249a515a6bea",
   "metadata": {},
   "outputs": [
    {
     "name": "stdout",
     "output_type": "stream",
     "text": [
      "17:40:11 started.\n",
      "17:40:13 1000 deals analyzed.\n",
      "17:40:14 2000 deals analyzed.\n",
      "17:40:16 3000 deals analyzed.\n",
      "17:40:19 4000 deals analyzed.\n",
      "17:40:21 5000 deals analyzed.\n",
      "17:40:23 6000 deals analyzed.\n",
      "17:40:25 7000 deals analyzed.\n",
      "17:40:26 8000 deals analyzed.\n",
      "17:40:28 9000 deals analyzed.\n",
      "17:40:30 10000 deals analyzed.\n"
     ]
    }
   ],
   "source": [
    "log(\"started.\")\n",
    "val balNo4cM = Shape(\"33(43)\") + Shape(\"(32)(53)\")\n",
    "val contract = Contract(\"3N\")\n",
    "\n",
    "val payOff = openingLead(\n",
    "    count = 10_000,\n",
    "    hand = PreDealHand(\"QT T32 JT8732 32\"),\n",
    "    leader = WEST,\n",
    "    accept = { deal ->\n",
    "        balNo4cM(deal.south) && deal.south.hcp in 15..17 &&\n",
    "            (deal.north.hearts.size == 4 || deal.north.spades.size == 4) && deal.north.hcp in 9..11\n",
    "    },\n",
    "    contract = contract,\n",
    "    scoring = PayOff.impFromTricks(contract, vulnerable = false)\n",
    ")"
   ]
  },
  {
   "cell_type": "code",
   "execution_count": 17,
   "id": "beb19739-000c-4064-bdb7-d358dbb9ec0e",
   "metadata": {},
   "outputs": [
    {
     "data": {
      "text/plain": [
       "        SQ      ST      HT      H3      DJ      D8      D3      C3      \n",
       "SQ              \u001b[1m\u001b[32m+0.17   \u001b[0m\u001b[1m\u001b[32m+0.53   \u001b[0m\u001b[1m\u001b[32m+0.47   \u001b[0m\u001b[1m\u001b[32m+0.55   \u001b[0m\u001b[1m\u001b[32m+0.75   \u001b[0m\u001b[1m\u001b[32m+0.75   \u001b[0m\u001b[1m\u001b[32m+0.56   \u001b[0m\n",
       "                (0.02)  (0.04)  (0.04)  (0.04)  (0.04)  (0.04)  (0.04)  \n",
       "ST      \u001b[1m\u001b[31m-0.17   \u001b[0m        \u001b[1m\u001b[32m+0.36   \u001b[0m\u001b[1m\u001b[32m+0.30   \u001b[0m\u001b[1m\u001b[32m+0.38   \u001b[0m\u001b[1m\u001b[32m+0.58   \u001b[0m\u001b[1m\u001b[32m+0.58   \u001b[0m\u001b[1m\u001b[32m+0.39   \u001b[0m\n",
       "        (0.02)          (0.04)  (0.04)  (0.03)  (0.04)  (0.04)  (0.03)  \n",
       "HT      \u001b[1m\u001b[31m-0.53   \u001b[0m\u001b[1m\u001b[31m-0.36   \u001b[0m        \u001b[1m\u001b[31m-0.07   \u001b[0m+0.01   \u001b[0m\u001b[1m\u001b[32m+0.22   \u001b[0m\u001b[1m\u001b[32m+0.22   \u001b[0m\u001b[1m\u001b[32m+0.03   \u001b[0m\n",
       "        (0.04)  (0.04)          (0.01)  (0.03)  (0.03)  (0.03)  (0.03)  \n",
       "H3      \u001b[1m\u001b[31m-0.47   \u001b[0m\u001b[1m\u001b[31m-0.30   \u001b[0m\u001b[1m\u001b[32m+0.07   \u001b[0m        \u001b[1m\u001b[32m+0.08   \u001b[0m\u001b[1m\u001b[32m+0.29   \u001b[0m\u001b[1m\u001b[32m+0.29   \u001b[0m\u001b[1m\u001b[32m+0.10   \u001b[0m\n",
       "        (0.04)  (0.04)  (0.01)          (0.03)  (0.03)  (0.03)  (0.03)  \n",
       "DJ      \u001b[1m\u001b[31m-0.55   \u001b[0m\u001b[1m\u001b[31m-0.38   \u001b[0m-0.01   \u001b[0m\u001b[1m\u001b[31m-0.08   \u001b[0m        \u001b[1m\u001b[32m+0.21   \u001b[0m\u001b[1m\u001b[32m+0.22   \u001b[0m+0.01   \u001b[0m\n",
       "        (0.04)  (0.03)  (0.03)  (0.03)          (0.01)  (0.01)  (0.02)  \n",
       "D8      \u001b[1m\u001b[31m-0.75   \u001b[0m\u001b[1m\u001b[31m-0.58   \u001b[0m\u001b[1m\u001b[31m-0.22   \u001b[0m\u001b[1m\u001b[31m-0.29   \u001b[0m\u001b[1m\u001b[31m-0.21   \u001b[0m        \u001b[1m\u001b[32m+0.00   \u001b[0m\u001b[1m\u001b[31m-0.20   \u001b[0m\n",
       "        (0.04)  (0.04)  (0.03)  (0.03)  (0.01)          (0.00)  (0.03)  \n",
       "D3      \u001b[1m\u001b[31m-0.75   \u001b[0m\u001b[1m\u001b[31m-0.58   \u001b[0m\u001b[1m\u001b[31m-0.22   \u001b[0m\u001b[1m\u001b[31m-0.29   \u001b[0m\u001b[1m\u001b[31m-0.22   \u001b[0m\u001b[1m\u001b[31m-0.00   \u001b[0m        \u001b[1m\u001b[31m-0.20   \u001b[0m\n",
       "        (0.04)  (0.04)  (0.03)  (0.03)  (0.01)  (0.00)          (0.03)  \n",
       "C3      \u001b[1m\u001b[31m-0.56   \u001b[0m\u001b[1m\u001b[31m-0.39   \u001b[0m\u001b[1m\u001b[31m-0.03   \u001b[0m\u001b[1m\u001b[31m-0.10   \u001b[0m-0.01   \u001b[0m\u001b[1m\u001b[32m+0.20   \u001b[0m\u001b[1m\u001b[32m+0.20   \u001b[0m        \n",
       "        (0.04)  (0.03)  (0.03)  (0.03)  (0.02)  (0.03)  (0.03)          \n"
      ]
     },
     "execution_count": 17,
     "metadata": {},
     "output_type": "execute_result"
    }
   ],
   "source": [
    "payOff"
   ]
  },
  {
   "cell_type": "code",
   "execution_count": null,
   "id": "b217547d-ade5-46a0-85cf-c066954a46f4",
   "metadata": {},
   "outputs": [],
   "source": []
  }
 ],
 "metadata": {
  "kernelspec": {
   "display_name": "Kotlin",
   "language": "kotlin",
   "name": "kotlin"
  },
  "language_info": {
   "codemirror_mode": "text/x-kotlin",
   "file_extension": ".kt",
   "mimetype": "text/x-kotlin",
   "name": "kotlin",
   "nbconvert_exporter": "",
   "pygments_lexer": "kotlin",
   "version": "1.9.0"
  }
 },
 "nbformat": 4,
 "nbformat_minor": 5
}
