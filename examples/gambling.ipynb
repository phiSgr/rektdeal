{
 "cells": [
  {
   "cell_type": "markdown",
   "id": "c5739307-b32d-4726-89c6-a44fa4a9a6de",
   "metadata": {},
   "source": [
    "The following code finds deals where South is AK K52 98765 962 and\n",
    "North has a gambling 3NT hand.\n",
    "\n",
    "Adapted from https://github.com/anntzer/redeal/blob/main/examples/deal_gambling.py."
   ]
  },
  {
   "cell_type": "code",
   "execution_count": 1,
   "id": "ec2d2e78-3d2b-40c7-ac7f-1be40db0c47c",
   "metadata": {
    "scrolled": true
   },
   "outputs": [],
   "source": [
    "@file:DependsOn(\"com.github.phisgr:rektdeal:0.2.0\")\n",
    "\n",
    "import com.github.phisgr.dds.*\n",
    "import com.github.phisgr.dds.Deal as DdsDeal\n",
    "import com.github.phisgr.rektdeal.*"
   ]
  },
  {
   "cell_type": "code",
   "execution_count": 2,
   "id": "49f65216-5348-40e1-aee1-0968da6074bb",
   "metadata": {},
   "outputs": [],
   "source": [
    "val gamblingShape = Shape { s, h, d, c ->\n",
    "    s <= 3 && h <= 3 && (d >= 7 && c <= 4 || d <= 4 && c >= 7)\n",
    "}"
   ]
  },
  {
   "cell_type": "markdown",
   "id": "ce00e92a-4ace-45f1-a710-8f1110d85bb5",
   "metadata": {},
   "source": [
    "Here we see a clever use of the `evaluator` in `SmartStack`."
   ]
  },
  {
   "cell_type": "code",
   "execution_count": 3,
   "id": "bc128640-ce08-4e58-9f86-cf4ad138223c",
   "metadata": {},
   "outputs": [],
   "source": [
    "val gambling = Evaluator { cards ->\n",
    "    val longWithTopHonours = cards.size >= 7 &&\n",
    "        cards[0] == Rank.A && cards[1] == Rank.K && cards[2] == Rank.Q\n",
    "    val shortWithNoControls = cards.size <= 4 && (cards.isEmpty() || cards[0] < Rank.K)\n",
    "\n",
    "    if (longWithTopHonours || shortWithNoControls) 1 else 0\n",
    "}"
   ]
  },
  {
   "cell_type": "code",
   "execution_count": 4,
   "id": "0cc73bb5-3701-4642-88da-7c629046eb0a",
   "metadata": {},
   "outputs": [],
   "source": [
    "val dealer = Dealer(\n",
    "    S = \"AK K52 98765 962\",\n",
    "    N = SmartStack(\n",
    "        shape = gamblingShape,\n",
    "        evaluator = gambling,\n",
    "        // i.e. the gambling Evaluator has to evaluate to 1 for all suits\n",
    "        values = listOf(4)\n",
    "    )\n",
    ")"
   ]
  },
  {
   "cell_type": "code",
   "execution_count": 5,
   "id": "2b8a27d0-bc6b-4802-aace-3f9a14d138d5",
   "metadata": {},
   "outputs": [],
   "source": [
    "val shapeCounter = mutableMapOf<List<Int>, Int>()\n",
    "repeat(10_000) {\n",
    "    shapeCounter.compute(dealer().north.shape) { _, v -> (v ?: 0) + 1}\n",
    "}"
   ]
  },
  {
   "cell_type": "code",
   "execution_count": 6,
   "id": "3e19149d-baaf-4ccc-9967-de7afff30fb1",
   "metadata": {},
   "outputs": [
    {
     "name": "stdout",
     "output_type": "stream",
     "text": [
      "3 2 1 7 : 1416\n",
      "2 3 1 7 : 1174\n",
      "2 2 2 7 : 1119\n",
      "3 1 2 7 : 839\n",
      "1 3 2 7 : 550\n",
      "3 3 0 7 : 518\n",
      "2 1 3 7 : 449\n",
      "2 2 1 8 : 337\n",
      "1 2 3 7 : 313\n",
      "2 2 7 2 : 310\n",
      "3 2 7 1 : 281\n",
      "3 1 1 8 : 217\n",
      "3 1 7 2 : 213\n",
      "2 3 7 1 : 205\n",
      "2 1 2 8 : 166\n",
      "2 1 7 3 : 163\n",
      "1 3 7 2 : 151\n",
      "3 2 0 8 : 149\n",
      "1 3 1 8 : 135\n",
      "3 0 3 7 : 130\n",
      "1 2 2 8 : 119\n",
      "1 2 7 3 : 115\n",
      "2 3 0 8 : 109\n",
      "3 3 7 0 : 77\n",
      "1 1 4 7 : 62\n",
      "0 3 3 7 : 61\n",
      "3 0 2 8 : 52\n",
      "3 0 7 3 : 52\n",
      "1 1 3 8 : 49\n",
      "1 1 7 4 : 37\n",
      "0 3 2 8 : 34\n",
      "2 0 4 7 : 30\n",
      "0 3 7 3 : 29\n",
      "2 0 7 4 : 27\n",
      "1 2 1 9 : 25\n",
      "2 0 3 8 : 25\n",
      "2 1 1 9 : 25\n",
      "0 2 4 7 : 23\n",
      "0 2 3 8 : 18\n",
      "2 1 8 2 : 17\n",
      "1 2 8 2 : 16\n",
      "0 2 7 4 : 14\n",
      "2 2 0 9 : 14\n",
      "3 1 8 1 : 14\n",
      "3 1 0 9 : 12\n",
      "2 2 8 1 : 12\n",
      "1 1 2 9 : 11\n",
      "1 3 8 1 : 10\n",
      "1 3 0 9 : 9\n",
      "3 0 1 9 : 7\n",
      "3 2 8 0 : 6\n",
      "2 0 2 9 : 6\n",
      "0 1 4 8 : 5\n",
      "0 2 2 9 : 5\n",
      "0 3 1 9 : 5\n",
      "2 0 8 3 : 4\n",
      "1 0 4 8 : 4\n",
      "2 3 8 0 : 4\n",
      "3 0 8 2 : 4\n",
      "0 3 8 2 : 3\n",
      "0 2 8 3 : 2\n",
      "1 0 8 4 : 2\n",
      "1 1 8 3 : 2\n",
      "0 3 0 10 : 2\n",
      "1 0 3 9 : 2\n",
      "2 1 0 10 : 1\n",
      "0 2 1 10 : 1\n",
      "1 0 2 10 : 1\n",
      "1 1 1 10 : 1\n"
     ]
    }
   ],
   "source": [
    "shapeCounter\n",
    "    .asSequence()\n",
    "    .sortedByDescending { (_, count) -> count }\n",
    "    .forEach { (shape, count) ->\n",
    "        println(\"${shape.joinToString(\" \")} : $count\")\n",
    "    }"
   ]
  }
 ],
 "metadata": {
  "kernelspec": {
   "display_name": "Kotlin",
   "language": "kotlin",
   "name": "kotlin"
  },
  "language_info": {
   "codemirror_mode": "text/x-kotlin",
   "file_extension": ".kt",
   "mimetype": "text/x-kotlin",
   "name": "kotlin",
   "nbconvert_exporter": "",
   "pygments_lexer": "kotlin",
   "version": "1.9.23"
  }
 },
 "nbformat": 4,
 "nbformat_minor": 5
}
