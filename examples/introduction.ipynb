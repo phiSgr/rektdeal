{
 "cells": [
  {
   "cell_type": "markdown",
   "id": "037c2da6-a320-4ca4-a6d9-5702377da936",
   "metadata": {},
   "source": [
    "For installing Kotlin Jupyter, see [examples/READMEmd](./README.md).\n",
    "\n",
    "---\n",
    "\n",
    "A large portion of the examples and explanation are adapted from [Redeal's documentation](https://github.com/anntzer/redeal)."
   ]
  },
  {
   "cell_type": "code",
   "execution_count": 1,
   "id": "c3243ae7-c9e0-4b2e-9460-0f35e30c5d52",
   "metadata": {},
   "outputs": [],
   "source": [
    "// First let's ask the kernel to load the ReKtDeal libary.\n",
    "\n",
    "@file:DependsOn(\"com.github.phisgr:rektdeal:0.1.0\")\n",
    "\n",
    "// and import the classes\n",
    "\n",
    "import com.github.phisgr.dds.*\n",
    "import com.github.phisgr.dds.Deal as DdsDeal\n",
    "import com.github.phisgr.rektdeal.*"
   ]
  },
  {
   "cell_type": "code",
   "execution_count": 2,
   "id": "60b505b5-9789-4b05-9757-ccf32e9eff59",
   "metadata": {
    "scrolled": true
   },
   "outputs": [
    {
     "name": "stdout",
     "output_type": "stream",
     "text": [
      "♠️AJ8732♥️93♦️7♣️A862 ♠️Q5♥️AQJ♦️J32♣️KJ754 ♠️96♥️KT852♦️Q865♣️T9 ♠️KT4♥️764♦️AKT94♣️Q3\n",
      "♠️9875♥️KJ6♦️T♣️QJ632 ♠️AQ63♥️8732♦️63♣️T54 ♠️J4♥️AT9♦️AK85♣️K987 ♠️KT2♥️Q54♦️QJ9742♣️A\n",
      "♠️K8♥️AQ98432♦️J93♣️8 ♠️A62♥️♦️AK874♣️J6542 ♠️QT43♥️KT765♦️5♣️Q93 ♠️J975♥️J♦️QT62♣️AKT7\n",
      "♠️J96♥️AT84♦️A53♣️985 ♠️872♥️K763♦️942♣️T74 ♠️QT43♥️QJ♦️KQJ8♣️A62 ♠️AK5♥️952♦️T76♣️KQJ3\n",
      "♠️T4♥️♦️AT6♣️AKQJ9752 ♠️AKJ83♥️6432♦️742♣️6 ♠️972♥️T98♦️KJ85♣️T43 ♠️Q65♥️AKQJ75♦️Q93♣️8\n",
      "♠️A9865♥️T52♦️AJ97♣️8 ♠️KQJ2♥️J♦️8643♣️QJ72 ♠️T73♥️AQ93♦️Q5♣️K965 ♠️4♥️K8764♦️KT2♣️AT43\n",
      "♠️T986♥️2♦️875♣️J9743 ♠️5♥️AJ63♦️J92♣️AQT82 ♠️AQJ432♥️9♦️QT4♣️K65 ♠️K7♥️KQT8754♦️AK63♣️\n",
      "♠️AJ8743♥️AK32♦️K♣️95 ♠️Q96♥️T9654♦️86♣️JT4 ♠️T♥️87♦️JT9743♣️AK87 ♠️K52♥️QJ♦️AQ52♣️Q632\n",
      "♠️KQ95♥️K♦️K9762♣️KQ6 ♠️3♥️AQT8♦️QT♣️AJ7432 ♠️AJT864♥️J2♦️854♣️98 ♠️72♥️976543♦️AJ3♣️T5\n",
      "♠️T963♥️96♦️4♣️JT8742 ♠️AJ854♥️Q87♦️T932♣️3 ♠️KQ72♥️AT♦️J8765♣️K6 ♠️♥️KJ5432♦️AKQ♣️AQ95\n"
     ]
    }
   ],
   "source": [
    "val dealer = Dealer()\n",
    "repeat(10) {\n",
    "    println(dealer())\n",
    "}"
   ]
  },
  {
   "cell_type": "markdown",
   "id": "4e28f0b2-9ba8-4500-ab60-799ceeb06e65",
   "metadata": {},
   "source": [
    "## Formatting Output\n",
    "\n",
    "The default output is compact, but not very friendly. What about more classic diagrams?\n",
    "The `handDiagram` method is there for that!"
   ]
  },
  {
   "cell_type": "code",
   "execution_count": 3,
   "id": "1532fae3-cd0f-41fc-b1c9-c6678400ad81",
   "metadata": {},
   "outputs": [
    {
     "data": {
      "text/plain": [
       "        ♠️Q75\n",
       "        ♥️QJ7\n",
       "        ♦️9643\n",
       "        ♣️A62\n",
       "♠️A84           ♠️JT32\n",
       "♥️A4            ♥️KT83\n",
       "♦️JT85          ♦️KQ2\n",
       "♣️K853          ♣️QJ\n",
       "        ♠️K96\n",
       "        ♥️9652\n",
       "        ♦️A7\n",
       "        ♣️T974\n"
      ]
     },
     "execution_count": 3,
     "metadata": {},
     "output_type": "execute_result"
    }
   ],
   "source": [
    "val deal = dealer()\n",
    "deal.handDiagram()"
   ]
  },
  {
   "cell_type": "markdown",
   "id": "0c0dc555-3539-4ac3-8afb-8001553a77fd",
   "metadata": {},
   "source": [
    "Or you can display only some hands. Here we have a defender's view."
   ]
  },
  {
   "cell_type": "code",
   "execution_count": 4,
   "id": "a61c831e-cdcc-4c0b-a388-172d17fcb26c",
   "metadata": {},
   "outputs": [
    {
     "data": {
      "text/plain": [
       "♠️Q75\n",
       "♥️QJ7\n",
       "♦️9643\n",
       "♣️A62\n",
       "        ♠️JT32\n",
       "        ♥️KT83\n",
       "        ♦️KQ2\n",
       "        ♣️QJ\n"
      ]
     },
     "execution_count": 4,
     "metadata": {},
     "output_type": "execute_result"
    }
   ],
   "source": [
    "deal.handDiagram(NORTH, EAST)"
   ]
  },
  {
   "cell_type": "markdown",
   "id": "0d99d78e-3c40-4aa0-8222-2fd189b867d1",
   "metadata": {},
   "source": [
    "## The `maxTry` count and `accept` function\n",
    "\n",
    "Let's say we want a selection of deals in which North holds a one spade opener. For now, we will use a crude definition for an opening 1♠️ call - we will require North to have 5 or more spades and 12 or more points."
   ]
  },
  {
   "cell_type": "code",
   "execution_count": 5,
   "id": "f4222ff6-e3d6-467a-afcc-439de5c8eeb3",
   "metadata": {},
   "outputs": [
    {
     "name": "stdout",
     "output_type": "stream",
     "text": [
      "♠️AKJT872♥️AT♦️AQ4♣️7 ♠️4♥️QJ98632♦️K6♣️Q53 ♠️Q96♥️74♦️98753♣️KJ2 ♠️53♥️K5♦️JT2♣️AT9864\n",
      "null\n",
      "♠️AQJ9875♥️AK2♦️3♣️95 ♠️T62♥️Q9♦️KJ2♣️KJ642 ♠️43♥️JT73♦️T654♣️AT3 ♠️K♥️8654♦️AQ987♣️Q87\n",
      "null\n",
      "♠️AKJ98♥️A62♦️75♣️T97 ♠️Q43♥️9♦️AKT83♣️J863 ♠️T72♥️K8743♦️J62♣️K5 ♠️65♥️QJT5♦️Q94♣️AQ42\n",
      "♠️AK9873♥️KQ76♦️T9♣️4 ♠️J64♥️J2♦️J85♣️KQT73 ♠️♥️A54♦️AKQ7643♣️J98 ♠️QT52♥️T983♦️2♣️A652\n",
      "♠️KJT96♥️QJ73♦️A3♣️J7 ♠️7♥️9642♦️K75♣️AK842 ♠️Q4♥️A♦️QJT82♣️Q9653 ♠️A8532♥️KT85♦️964♣️T\n",
      "null\n",
      "♠️A9842♥️JT3♦️AKJ85♣️ ♠️QJ6♥️AQ♦️Q9♣️AKQ754 ♠️K3♥️875♦️T62♣️JT863 ♠️T75♥️K9642♦️743♣️92\n",
      "♠️K9873♥️AT♦️♣️AQJ853 ♠️54♥️J9642♦️KT85♣️T6 ♠️T6♥️K853♦️A973♣️K94 ♠️AQJ2♥️Q7♦️QJ642♣️72\n"
     ]
    }
   ],
   "source": [
    "val dealer = Dealer()\n",
    "repeat(10) {\n",
    "    // you can optionally provide a maxTry count\n",
    "    // if after the number of hands tried, none is accepted,\n",
    "    // dealer(...) returns null\n",
    "    val deal = dealer(maxTry = 10, accept = { deal ->\n",
    "        deal.north.spades.size >= 5 && deal.north.hcp >= 12\n",
    "    })\n",
    "    println(deal)\n",
    "}"
   ]
  },
  {
   "cell_type": "markdown",
   "id": "b0dd4046-f1da-4cd6-bae7-767e5c99c372",
   "metadata": {},
   "source": [
    "It's more idiomatic to use the [trailing lambda syntax](https://kotlinlang.org/docs/lambdas.html#passing-trailing-lambdas)."
   ]
  },
  {
   "cell_type": "code",
   "execution_count": 6,
   "id": "da2c492f-fe03-4c39-9ef1-f2a72bfef163",
   "metadata": {},
   "outputs": [
    {
     "name": "stdout",
     "output_type": "stream",
     "text": [
      "♠️AQT53♥️95♦️AT8♣️K42 ♠️42♥️A8642♦️96♣️AJT9 ♠️K98♥️3♦️QJ754♣️8753 ♠️J76♥️KQJT7♦️K32♣️Q6\n"
     ]
    }
   ],
   "source": [
    "val deal = dealer(maxTry = 1000) { deal ->\n",
    "    deal.north.spades.size >= 5 && deal.north.hcp >= 12\n",
    "}\n",
    "println(deal)"
   ]
  },
  {
   "cell_type": "markdown",
   "id": "0b59aec1-c8d5-4a60-bce9-1140352bf00d",
   "metadata": {},
   "source": [
    "The function `{ deal -> ... }` is called after each deal is dealt. It can either evaluate to `true`, if the deal satisfies our conditions, or `false` otherwise - in which case the dealer shuffles the deal and tests with the condition again.\n",
    "\n",
    "Here `deal.north` represents North's hand, `deal.north.spades` is North's spade holding, and `deal.north.hcp` is North's number of HCP."
   ]
  },
  {
   "cell_type": "markdown",
   "id": "8b7ede61-5459-42f8-8401-82eb3d8a3000",
   "metadata": {},
   "source": [
    "## Stacking a Hand\n",
    "\n",
    "Would you open 2 or 3♥️ with ♠️-♥️KQJT62♦️T9876♣️84? Well, let's deal a couple of hands to see how this would fare."
   ]
  },
  {
   "cell_type": "code",
   "execution_count": 7,
   "id": "9a038281-51f3-4a3c-a9a5-f08d01fb61ba",
   "metadata": {},
   "outputs": [
    {
     "name": "stdout",
     "output_type": "stream",
     "text": [
      "♠️852♥️7♦️KQ52♣️AT976 ♠️AJ964♥️A94♦️4♣️KQJ5 ♠️♥️KQJT62♦️T9876♣️84 ♠️KQT73♥️853♦️AJ3♣️32\n",
      "♠️9643♥️753♦️A32♣️J96 ♠️JT872♥️A8♦️J54♣️AT5 ♠️♥️KQJT62♦️T9876♣️84 ♠️AKQ5♥️94♦️KQ♣️KQ732\n",
      "♠️AKT5♥️43♦️Q2♣️T9753 ♠️QJ9874♥️987♦️53♣️K2 ♠️♥️KQJT62♦️T9876♣️84 ♠️632♥️A5♦️AKJ4♣️AQJ6\n",
      "♠️764♥️A♦️Q54♣️AKQ765 ♠️QJT953♥️7543♦️32♣️9 ♠️♥️KQJT62♦️T9876♣️84 ♠️AK82♥️98♦️AKJ♣️JT32\n",
      "♠️932♥️9754♦️J432♣️52 ♠️AT8654♥️A8♦️K5♣️J63 ♠️♥️KQJT62♦️T9876♣️84 ♠️KQJ7♥️3♦️AQ♣️AKQT97\n",
      "♠️9432♥️985♦️4♣️96532 ♠️AJT75♥️43♦️AQ3♣️AJ7 ♠️♥️KQJT62♦️T9876♣️84 ♠️KQ86♥️A7♦️KJ52♣️KQT\n",
      "♠️92♥️9754♦️QJ5♣️A753 ♠️QJ8753♥️♦️AK♣️KQT96 ♠️♥️KQJT62♦️T9876♣️84 ♠️AKT64♥️A83♦️432♣️J2\n",
      "♠️K852♥️95♦️Q4♣️AKQ95 ♠️AQ943♥️4♦️A32♣️T763 ♠️♥️KQJT62♦️T9876♣️84 ♠️JT76♥️A873♦️KJ5♣️J2\n",
      "♠️AJT976♥️A74♦️K5♣️J3 ♠️853♥️8♦️AQ32♣️AQ765 ♠️♥️KQJT62♦️T9876♣️84 ♠️KQ42♥️953♦️J4♣️KT92\n",
      "♠️T8763♥️4♦️AQ4♣️AQT2 ♠️AKJ4♥️975♦️K53♣️KJ3 ♠️♥️KQJT62♦️T9876♣️84 ♠️Q952♥️A83♦️J2♣️9765\n"
     ]
    }
   ],
   "source": [
    "val stackedDealer = Dealer(S = \"- KQJT62 T9876 84\")\n",
    "repeat(10) {\n",
    "    println(stackedDealer())\n",
    "}"
   ]
  },
  {
   "cell_type": "markdown",
   "id": "d76e4fe5-2fb8-4d8e-8a8e-275428a61c91",
   "metadata": {},
   "source": [
    "Your partner opens 1♠️ and you hold ♠️-♥️96532♦️A864♣️T962... do you pass or bid a forcing NT?\n",
    "Let's generate a few hands so that we can see how we would fare."
   ]
  },
  {
   "cell_type": "code",
   "execution_count": 8,
   "id": "3757a51a-1517-4588-95f4-d34d5e6c8e34",
   "metadata": {},
   "outputs": [
    {
     "name": "stdout",
     "output_type": "stream",
     "text": [
      "♠️AKQ7532♥️KJ7♦️J72♣️ ♠️JT4♥️AT♦️KQ93♣️A743 ♠️♥️96532♦️A864♣️T962 ♠️986♥️Q84♦️T5♣️KQJ85\n",
      "♠️KQ98732♥️AQ84♦️K♣️7 ♠️J4♥️KJ♦️Q972♣️KQ854 ♠️♥️96532♦️A864♣️T962 ♠️AT65♥️T7♦️JT53♣️AJ3\n",
      "♠️AQ872♥️JT74♦️9♣️KQ8 ♠️KT9543♥️8♦️QT75♣️75 ♠️♥️96532♦️A864♣️T962 ♠️J6♥️AKQ♦️KJ32♣️AJ43\n",
      "♠️AQJT986♥️A♦️K3♣️J84 ♠️K7543♥️JT84♦️75♣️73 ♠️♥️96532♦️A864♣️T962 ♠️2♥️KQ7♦️QJT92♣️AKQ5\n",
      "♠️AKQJT654♥️KQ♦️♣️Q75 ♠️973♥️A7♦️QT9752♣️A3 ♠️♥️96532♦️A864♣️T962 ♠️82♥️JT84♦️KJ3♣️KJ84\n",
      "♠️AQJ654♥️8♦️QJT2♣️AJ ♠️KT73♥️AKQ7♦️95♣️Q87 ♠️♥️96532♦️A864♣️T962 ♠️982♥️JT4♦️K73♣️K543\n",
      "♠️J6542♥️AKJ♦️K♣️KQJ7 ♠️AT7♥️QT87♦️Q72♣️843 ♠️♥️96532♦️A864♣️T962 ♠️KQ983♥️4♦️JT953♣️A5\n",
      "♠️AJT853♥️A♦️972♣️AKJ ♠️942♥️K4♦️QT53♣️Q854 ♠️♥️96532♦️A864♣️T962 ♠️KQ76♥️QJT87♦️KJ♣️73\n",
      "♠️QJT62♥️AT7♦️KQ♣️Q43 ♠️953♥️Q8♦️JT97532♣️7 ♠️♥️96532♦️A864♣️T962 ♠️AK874♥️KJ4♦️♣️AKJ85\n",
      "♠️AQJT82♥️7♦️J2♣️AQ84 ♠️965♥️KQJ84♦️KQT9♣️7 ♠️♥️96532♦️A864♣️T962 ♠️K743♥️AT♦️753♣️KJ53\n"
     ]
    }
   ],
   "source": [
    "val stackedDealer = Dealer(S = \"- 96532 A864 T962\")\n",
    "repeat(10) {\n",
    "    val deal = stackedDealer { deal ->\n",
    "        deal.north.spades.size >= 5 && deal.north.hcp >= 12\n",
    "    }\n",
    "    println(deal)\n",
    "}"
   ]
  },
  {
   "cell_type": "markdown",
   "id": "4376c803-88a7-40bf-95f1-6c20b6d0f4de",
   "metadata": {
    "jp-MarkdownHeadingCollapsed": true
   },
   "source": [
    "Unlike Redeal, which allows specifying something like \"south must hold the ♥️A\" with `\"- A - -\"`,\n",
    "the pre-dealt hand in ReKtDeal has to hold all 13 cards.\n",
    "This limitation may be lifted in the future."
   ]
  },
  {
   "cell_type": "markdown",
   "id": "40b6b17e-c99a-41cb-9565-8f078a38fdfb",
   "metadata": {},
   "source": [
    "## Shape\n",
    "\n",
    "Hands also have a `shape` attribute, which returns a list of the length in each suit.\n",
    "This can be queried directly, or using `Shape` objects.\n",
    "\n",
    "You can use `Shape` objects like a set with the `in` operator, or use it like a function."
   ]
  },
  {
   "cell_type": "code",
   "execution_count": 9,
   "id": "2e447315-964f-49ac-96cd-c86997feab08",
   "metadata": {},
   "outputs": [
    {
     "name": "stdout",
     "output_type": "stream",
     "text": [
      "♠️QJ62♥️QT654♦️87♣️KJ ♠️KT98♥️9♦️AT954♣️A84 ♠️A5♥️K73♦️63♣️QT9632 ♠️743♥️AJ82♦️KQJ2♣️75\n",
      "North's shape is [4, 5, 2, 2], it is not balanced.\n",
      "\n",
      "♠️9653♥️T75♦️AKJ♣️AJ4 ♠️A82♥️J96♦️Q872♣️T52 ♠️T4♥️KQ832♦️T64♣️963 ♠️KQJ7♥️A4♦️953♣️KQ87\n",
      "North's shape is [4, 3, 3, 3], it is balanced.\n",
      "\n",
      "♠️QT9♥️95♦️K9862♣️T75 ♠️A7654♥️AT7♦️Q♣️AQ98 ♠️KJ8♥️J432♦️J43♣️642 ♠️32♥️KQ86♦️AT75♣️KJ3\n",
      "North's shape is [3, 2, 5, 3], it is balanced.\n",
      "\n",
      "♠️K84♥️AJ9♦️97♣️QJ987 ♠️JT5♥️KT3♦️A8653♣️32 ♠️Q7632♥️Q65♦️J♣️KT54 ♠️A9♥️8742♦️KQT42♣️A6\n",
      "North's shape is [3, 3, 2, 5], it is balanced.\n",
      "\n",
      "♠️97♥️AQT986♦️965♣️74 ♠️QJT6♥️4♦️AJ8♣️JT983 ♠️A85♥️J732♦️KQT4♣️AK ♠️K432♥️K5♦️732♣️Q652\n",
      "North's shape is [2, 6, 3, 2], it is not balanced.\n",
      "\n"
     ]
    }
   ],
   "source": [
    "val dealer = Dealer()\n",
    "repeat(5) {\n",
    "    val deal = dealer { deal ->\n",
    "        Shape.semiBalanced(deal.north)\n",
    "    }\n",
    "    println(deal)\n",
    "\n",
    "    val isBalanced = deal.north.shape in Shape.balanced // or equivalently: `Shape.balanced(deal.north)`\n",
    "    println(\"North's shape is ${deal.north.shape}, it ${if (isBalanced) \"is\" else \"is not\"} balanced.\\n\")\n",
    "}"
   ]
  },
  {
   "cell_type": "markdown",
   "id": "acb43813-76d9-42bc-a95c-f30caa4fe069",
   "metadata": {},
   "source": [
    "`balanced` and `semiBalanced` are defined in [`Shape.kt`](../rektdeal/src/main/kotlin/com/github/phisgr/rektdeal/Shape.kt) as\n",
    "\n",
    "```kotlin\n",
    "val balanced = Shape(\"(4333)\") + Shape(\"(4432)\") + Shape(\"(5332)\")\n",
    "val semiBalanced = balanced + Shape(\"(5422)\") + Shape(\"(6322)\")\n",
    "\n",
    "```\n",
    "\n",
    "where the parentheses have the usual meaning. One can define other shapes, possibly using `x` as a generic placeholder:"
   ]
  },
  {
   "cell_type": "code",
   "execution_count": 10,
   "id": "138294e3-10e9-4599-a046-269f160a5214",
   "metadata": {},
   "outputs": [
    {
     "data": {
      "text/plain": [
       "♠️AK75♥️Q9542♦️K3♣️J8 ♠️Q962♥️J3♦️J8752♣️97 ♠️43♥️AK6♦️A9♣️QT5432 ♠️JT8♥️T87♦️QT64♣️AK6"
      ]
     },
     "execution_count": 10,
     "metadata": {},
     "output_type": "execute_result"
    }
   ],
   "source": [
    "val majorTwoSuited = Shape(\"(54)xx\") - Shape(\"(54)(40)\")\n",
    "val dealer = Dealer()\n",
    "dealer { deal ->\n",
    "    majorTwoSuited(deal.north)\n",
    "}"
   ]
  },
  {
   "cell_type": "markdown",
   "id": "76eda568-9706-4f70-9387-6a1bdf7ce211",
   "metadata": {},
   "source": [
    "## Evaluators\n",
    "\n",
    "Quite a few hand evaluation techniques (HCP, controls, suit quality)\n",
    "look at one suit at a time, and attribute some value to each card.\n",
    "Just like Deal and Redeal, ReKtDeal provides `Evaluator` for creating such evaluation functions:\n",
    "\n",
    "```kotlin\n",
    "val hcp: Evaluator = Evaluator(4, 3, 2, 1)\n",
    "val controls: Evaluator = Evaluator(2, 1)\n",
    "\n",
    "```"
   ]
  },
  {
   "cell_type": "code",
   "execution_count": 11,
   "id": "ddb4e88d-c4ff-4d13-81ba-ed1137b9e8be",
   "metadata": {},
   "outputs": [],
   "source": [
    "val top3 = Evaluator(1, 1, 1)"
   ]
  },
  {
   "cell_type": "markdown",
   "id": "07800b30-3cbb-423b-ab8d-714de1090fa7",
   "metadata": {},
   "source": [
    "Now you can test the quality of a suit with, for example,\n",
    "`top3(deal.north.spades) >= 2` (this may be relevant when generating weak two hands)."
   ]
  },
  {
   "cell_type": "code",
   "execution_count": 12,
   "id": "2875231b-5bf3-49b3-a019-1eeec8ca32cf",
   "metadata": {},
   "outputs": [
    {
     "data": {
      "text/plain": [
       "♠️KQ7652♥️Q8♦️J♣️J643 ♠️83♥️AJ2♦️K84♣️QT752 ♠️♥️KT9765♦️AQT532♣️K ♠️AJT94♥️43♦️976♣️A98"
      ]
     },
     "execution_count": 12,
     "metadata": {},
     "output_type": "execute_result"
    }
   ],
   "source": [
    "val dealer = Dealer()\n",
    "dealer { deal ->\n",
    "    top3.evaluate(deal.north.spades) >= 2 && deal.north.spades.size >= 6\n",
    "}"
   ]
  },
  {
   "cell_type": "markdown",
   "id": "41a8e648-ada5-458a-b27a-d8bad1467b72",
   "metadata": {},
   "source": [
    "## SmartStacking\n",
    "\n",
    "Rare hand types (say, 22 to 24 balanced) can be annoying to work with, as a lot of hands needs to be generated before finding any of them.\n",
    "\n",
    "For some rare hand types, Deal and Redeal provide an alternative, faster hand dealing technique: smartstacking. Smartstacking works for only one of the four seats, and can only take two sorts of constraints: a Shape object, and bounds on the total value of a vector additive function (i.e. summed over the four suits). For example, both of the following scripts find hands where North is 4-4 in the major, has a short minor and 11-15HCP."
   ]
  },
  {
   "cell_type": "code",
   "execution_count": 13,
   "id": "e444532a-9429-416c-9935-01dd9f49afb0",
   "metadata": {},
   "outputs": [
    {
     "name": "stdout",
     "output_type": "stream",
     "text": [
      "6058\n",
      "Took 444ms. Tries: 1737038\n"
     ]
    }
   ],
   "source": [
    "val roman = Shape(\"44(41)\") + Shape(\"44(50)\")\n",
    "val dealer = Dealer()\n",
    "\n",
    "var count = 0\n",
    "var hasMajorFit = 0\n",
    "var start = System.currentTimeMillis()\n",
    "repeat(10_000) {\n",
    "    val deal = dealer { deal ->\n",
    "        count++\n",
    "        roman(deal.north) && deal.north.hcp in 11..15\n",
    "    }\n",
    "    if (deal.south.spades.size >= 4 || deal.south.hearts.size >= 4) {\n",
    "        // printing in Jupyter incurs quite some overhead\n",
    "        // here we do some counting instead\n",
    "        hasMajorFit++\n",
    "    }\n",
    "}\n",
    "println(hasMajorFit)\n",
    "println(\"Took ${System.currentTimeMillis() - start}ms. Tries: $count\")"
   ]
  },
  {
   "cell_type": "code",
   "execution_count": 14,
   "id": "480a5f39-2daa-4e0d-9fca-9ad4d5f403be",
   "metadata": {},
   "outputs": [
    {
     "name": "stdout",
     "output_type": "stream",
     "text": [
      "6003\n",
      "Took 26ms.\n"
     ]
    }
   ],
   "source": [
    "val roman = Shape(\"44(41)\") + Shape(\"44(50)\")\n",
    "\n",
    "var start = System.currentTimeMillis()\n",
    "val smartDealer = Dealer(N = SmartStack(roman, Evaluator.hcp, 11..15))\n",
    "\n",
    "var hasMajorFit = 0\n",
    "repeat(10_000) {\n",
    "    val deal = smartDealer()\n",
    "    if (deal.south.spades.size >= 4 || deal.south.hearts.size >= 4) {\n",
    "        hasMajorFit++\n",
    "    }\n",
    "}\n",
    "println(hasMajorFit)\n",
    "println(\"Took ${System.currentTimeMillis() - start}ms.\")"
   ]
  },
  {
   "cell_type": "markdown",
   "id": "b54bfb9b-8155-48e9-b331-c9bf03dcc7e5",
   "metadata": {},
   "source": [
    "When smartstacking is used, it starts by computing the relative probabilities that each holding appears in a hand that satisfies the given condition, which takes some time. This then allows it to generate deals very quickly, much faster than by generating random deals and checking whether they pass an accept function. For the given example, as long as one requests a couple of dozen of hands, smartstacking is faster than direct dealing.\n",
    "\n",
    "Smartstacking will take into account other (normally) predealt hands, and an accept function can still be used, e.g. to still throw away some of the hands. See [examples/deal_gambling.ipynb](gambling.ipynb) for a complete example."
   ]
  },
  {
   "cell_type": "markdown",
   "id": "a32daff8-dc90-48c6-812f-49dba26dcf53",
   "metadata": {},
   "source": [
    "## Multi-threading\n",
    "\n",
    "ReKtDeal is performant, but sometimes you just want to use all the cores of your computer.\n",
    "You can launch and manage the threads yourself, but that's quite the hassle.\n",
    "ReKtDeal provides `multiThread`, a higher-order function, a template that manages all that for you.\n",
    "See [examples/gazzilli_weak_response.ipynb](gazzilli_weak_response.ipynb) for a complete example."
   ]
  },
  {
   "cell_type": "code",
   "execution_count": 15,
   "id": "03320483-f040-45bf-8eef-f8b02d051624",
   "metadata": {},
   "outputs": [
    {
     "name": "stdout",
     "output_type": "stream",
     "text": [
      "22:49:14 started.\n",
      "22:49:16 1000 deals analyzed.\n",
      "22:49:17 2000 deals analyzed.\n",
      "22:49:18 3000 deals analyzed.\n",
      "22:49:19 4000 deals analyzed.\n",
      "22:49:20 5000 deals analyzed.\n",
      "22:49:21 6000 deals analyzed.\n",
      "22:49:22 7000 deals analyzed.\n",
      "22:49:23 8000 deals analyzed.\n",
      "22:49:24 9000 deals analyzed.\n",
      "22:49:25 10000 deals analyzed.\n",
      "[15, 52, 156, 369, 740, 1121, 1622, 1627, 1614, 1164, 773, 469, 227, 51]\n",
      "If you hold a weak NT hand, the expected value of tricks in no trump is approximately 7.0821\n"
     ]
    }
   ],
   "source": [
    "import java.util.concurrent.atomic.AtomicIntegerArray\n",
    "\n",
    "log(\"started.\")\n",
    "val count = 10_000\n",
    "val trickCounts = AtomicIntegerArray(14)\n",
    "multiThread(\n",
    "    count = count,\n",
    "    accept = { deal ->\n",
    "        deal.south.hcp in 12..14 &&\n",
    "            Shape.balanced(deal.south)\n",
    "    },\n",
    "    action = { dealCount, deal ->\n",
    "        if (dealCount % 1000 == 0) {\n",
    "            log(\"$dealCount deals analyzed.\")\n",
    "        }\n",
    "        trickCounts.getAndIncrement(\n",
    "            deal.ddTricks(strain = N, declarer = SOUTH)\n",
    "        )\n",
    "    }\n",
    ")\n",
    "println(trickCounts)\n",
    "print(\"If you hold a weak NT hand, the expected value of tricks in no trump is approximately \")\n",
    "println((0..13).sumOf { it * trickCounts[it] } / count.toDouble())"
   ]
  },
  {
   "cell_type": "markdown",
   "id": "8cd33a26-7155-4ead-a086-017e4644e1be",
   "metadata": {},
   "source": [
    "## Opening Lead Simulation\n",
    "\n",
    "Like Redeal, ReKtDeal can help you run opening lead simulations.\n",
    "The following example is ported from [one of the Redeal examples](\n",
    "https://github.com/anntzer/redeal/blob/e2e81a477fd31ae548a340b5f0f380594d3d0ad6/examples/opening_lead.py).\n",
    "\n",
    "See [examples/opening_lead.ipynb](opening_lead.ipynb) for more information."
   ]
  },
  {
   "cell_type": "code",
   "execution_count": 16,
   "id": "2cf2725e-c0fa-4c89-9565-249a515a6bea",
   "metadata": {},
   "outputs": [
    {
     "name": "stdout",
     "output_type": "stream",
     "text": [
      "22:49:25 started.\n",
      "22:49:27 1000 deals analyzed.\n",
      "22:49:29 2000 deals analyzed.\n",
      "22:49:31 3000 deals analyzed.\n",
      "22:49:33 4000 deals analyzed.\n",
      "22:49:35 5000 deals analyzed.\n",
      "22:49:37 6000 deals analyzed.\n",
      "22:49:39 7000 deals analyzed.\n",
      "22:49:41 8000 deals analyzed.\n",
      "22:49:43 9000 deals analyzed.\n",
      "22:49:45 10000 deals analyzed.\n"
     ]
    }
   ],
   "source": [
    "log(\"started.\")\n",
    "val balNo4cM = Shape(\"33(43)\") + Shape(\"(32)(53)\")\n",
    "val contract = Contract(\"3N\")\n",
    "\n",
    "val payOff = openingLead(\n",
    "    count = 10_000,\n",
    "    hand = PreDealHand(\"QT T32 JT8732 32\"),\n",
    "    leader = WEST,\n",
    "    accept = { deal ->\n",
    "        balNo4cM(deal.south) && deal.south.hcp in 15..17 &&\n",
    "            (deal.north.hearts.size == 4 || deal.north.spades.size == 4) && deal.north.hcp in 9..11\n",
    "    },\n",
    "    contract = contract,\n",
    "    scoring = PayOff.impFromTricks(contract, vulnerable = false)\n",
    ")"
   ]
  },
  {
   "cell_type": "code",
   "execution_count": 17,
   "id": "beb19739-000c-4064-bdb7-d358dbb9ec0e",
   "metadata": {},
   "outputs": [
    {
     "data": {
      "text/plain": [
       "        SQ      ST      HT      H3      DJ      D8      D3      C3      \n",
       "SQ              \u001b[1m\u001b[32m+0.17   \u001b[0m\u001b[1m\u001b[32m+0.52   \u001b[0m\u001b[1m\u001b[32m+0.45   \u001b[0m\u001b[1m\u001b[32m+0.55   \u001b[0m\u001b[1m\u001b[32m+0.75   \u001b[0m\u001b[1m\u001b[32m+0.75   \u001b[0m\u001b[1m\u001b[32m+0.49   \u001b[0m\n",
       "                (0.02)  (0.04)  (0.04)  (0.04)  (0.04)  (0.04)  (0.04)  \n",
       "ST      \u001b[1m\u001b[31m-0.17   \u001b[0m        \u001b[1m\u001b[32m+0.35   \u001b[0m\u001b[1m\u001b[32m+0.28   \u001b[0m\u001b[1m\u001b[32m+0.38   \u001b[0m\u001b[1m\u001b[32m+0.58   \u001b[0m\u001b[1m\u001b[32m+0.58   \u001b[0m\u001b[1m\u001b[32m+0.31   \u001b[0m\n",
       "        (0.02)          (0.04)  (0.04)  (0.03)  (0.03)  (0.03)  (0.03)  \n",
       "HT      \u001b[1m\u001b[31m-0.52   \u001b[0m\u001b[1m\u001b[31m-0.35   \u001b[0m        \u001b[1m\u001b[31m-0.07   \u001b[0m\u001b[1m\u001b[32m+0.03   \u001b[0m\u001b[1m\u001b[32m+0.23   \u001b[0m\u001b[1m\u001b[32m+0.23   \u001b[0m\u001b[1m\u001b[31m-0.04   \u001b[0m\n",
       "        (0.04)  (0.04)          (0.01)  (0.03)  (0.03)  (0.03)  (0.03)  \n",
       "H3      \u001b[1m\u001b[31m-0.45   \u001b[0m\u001b[1m\u001b[31m-0.28   \u001b[0m\u001b[1m\u001b[32m+0.07   \u001b[0m        \u001b[1m\u001b[32m+0.10   \u001b[0m\u001b[1m\u001b[32m+0.30   \u001b[0m\u001b[1m\u001b[32m+0.30   \u001b[0m\u001b[1m\u001b[32m+0.03   \u001b[0m\n",
       "        (0.04)  (0.04)  (0.01)          (0.03)  (0.03)  (0.03)  (0.03)  \n",
       "DJ      \u001b[1m\u001b[31m-0.55   \u001b[0m\u001b[1m\u001b[31m-0.38   \u001b[0m\u001b[1m\u001b[31m-0.03   \u001b[0m\u001b[1m\u001b[31m-0.10   \u001b[0m        \u001b[1m\u001b[32m+0.20   \u001b[0m\u001b[1m\u001b[32m+0.21   \u001b[0m\u001b[1m\u001b[31m-0.07   \u001b[0m\n",
       "        (0.04)  (0.03)  (0.03)  (0.03)          (0.01)  (0.01)  (0.02)  \n",
       "D8      \u001b[1m\u001b[31m-0.75   \u001b[0m\u001b[1m\u001b[31m-0.58   \u001b[0m\u001b[1m\u001b[31m-0.23   \u001b[0m\u001b[1m\u001b[31m-0.30   \u001b[0m\u001b[1m\u001b[31m-0.20   \u001b[0m        \u001b[1m\u001b[32m+0.00   \u001b[0m\u001b[1m\u001b[31m-0.27   \u001b[0m\n",
       "        (0.04)  (0.03)  (0.03)  (0.03)  (0.01)          (0.00)  (0.03)  \n",
       "D3      \u001b[1m\u001b[31m-0.75   \u001b[0m\u001b[1m\u001b[31m-0.58   \u001b[0m\u001b[1m\u001b[31m-0.23   \u001b[0m\u001b[1m\u001b[31m-0.30   \u001b[0m\u001b[1m\u001b[31m-0.21   \u001b[0m\u001b[1m\u001b[31m-0.00   \u001b[0m        \u001b[1m\u001b[31m-0.27   \u001b[0m\n",
       "        (0.04)  (0.03)  (0.03)  (0.03)  (0.01)  (0.00)          (0.03)  \n",
       "C3      \u001b[1m\u001b[31m-0.49   \u001b[0m\u001b[1m\u001b[31m-0.31   \u001b[0m\u001b[1m\u001b[32m+0.04   \u001b[0m\u001b[1m\u001b[31m-0.03   \u001b[0m\u001b[1m\u001b[32m+0.07   \u001b[0m\u001b[1m\u001b[32m+0.27   \u001b[0m\u001b[1m\u001b[32m+0.27   \u001b[0m        \n",
       "        (0.04)  (0.03)  (0.03)  (0.03)  (0.02)  (0.03)  (0.03)          \n"
      ]
     },
     "execution_count": 17,
     "metadata": {},
     "output_type": "execute_result"
    }
   ],
   "source": [
    "payOff"
   ]
  }
 ],
 "metadata": {
  "kernelspec": {
   "display_name": "Kotlin",
   "language": "kotlin",
   "name": "kotlin"
  },
  "language_info": {
   "codemirror_mode": "text/x-kotlin",
   "file_extension": ".kt",
   "mimetype": "text/x-kotlin",
   "name": "kotlin",
   "nbconvert_exporter": "",
   "pygments_lexer": "kotlin",
   "version": "1.9.10"
  }
 },
 "nbformat": 4,
 "nbformat_minor": 5
}
